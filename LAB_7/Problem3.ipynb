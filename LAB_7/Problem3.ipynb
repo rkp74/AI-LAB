{
  "nbformat": 4,
  "nbformat_minor": 0,
  "metadata": {
    "colab": {
      "provenance": []
    },
    "kernelspec": {
      "name": "python3",
      "display_name": "Python 3"
    },
    "language_info": {
      "name": "python"
    }
  },
  "cells": [
    {
      "cell_type": "code",
      "execution_count": null,
      "metadata": {
        "id": "j4Wbb4H7UDcy"
      },
      "outputs": [],
      "source": [
        "import numpy as np\n",
        "from skimage import data, io, filters\n",
        "from matplotlib import pyplot as plt\n",
        "from PIL import Image\n",
        "from skimage.transform import resize\n",
        "import random\n",
        "%matplotlib inline"
      ]
    },
    {
      "cell_type": "code",
      "source": [
        "# Number of cities\n",
        "# Generating the 10 random points between 0 and 1 and storing tham in city_x and city_y array\n",
        "N = 10\n",
        "\n",
        "city_x = np.random.rand((10))\n",
        "city_y = np.random.rand((10))\n",
        "\n",
        "print('The co-ordinates of the 10 cities are:')\n",
        "for city in zip(city_x, city_y):\n",
        "    print(city)"
      ],
      "metadata": {
        "id": "YNmxLOqKULtr",
        "colab": {
          "base_uri": "https://localhost:8080/"
        },
        "outputId": "684185c0-a8fe-4896-a9fa-a9ead8180fb1"
      },
      "execution_count": null,
      "outputs": [
        {
          "output_type": "stream",
          "name": "stdout",
          "text": [
            "The co-ordinates of the 10 cities are:\n",
            "(0.5868049708707317, 0.33515993594687343)\n",
            "(0.6745983401738592, 0.8840485368972216)\n",
            "(0.3606474001577742, 0.4080916433281344)\n",
            "(0.830386367920734, 0.7051376497908406)\n",
            "(0.3804281639100282, 0.6433892932305992)\n",
            "(0.7652034651580247, 0.1651428696231021)\n",
            "(0.09992588891925225, 0.36074224411250566)\n",
            "(0.5181643463738399, 0.9859834847023625)\n",
            "(0.3993690050315435, 0.2234231384992239)\n",
            "(0.5225384447449909, 0.26795927216412907)\n"
          ]
        }
      ]
    },
    {
      "cell_type": "code",
      "source": [],
      "metadata": {
        "id": "JiHAKDIUUQi5"
      },
      "execution_count": null,
      "outputs": []
    },
    {
      "cell_type": "code",
      "source": [
        "plt.plot(city_x, city_y, 'o')\n",
        "plt.title('Map of cities')"
      ],
      "metadata": {
        "id": "9j0aWpm_VVGs",
        "colab": {
          "base_uri": "https://localhost:8080/",
          "height": 298
        },
        "outputId": "36af44a7-cd81-470d-80fe-51df207e3fa0"
      },
      "execution_count": null,
      "outputs": [
        {
          "output_type": "execute_result",
          "data": {
            "text/plain": [
              "Text(0.5, 1.0, 'Map of cities')"
            ]
          },
          "metadata": {},
          "execution_count": 3
        },
        {
          "output_type": "display_data",
          "data": {
            "text/plain": [
              "<Figure size 432x288 with 1 Axes>"
            ],
            "image/png": "[encoded data removed]"
          },
          "metadata": {
            "needs_background": "light"
          }
        }
      ]
    },
    {
      "cell_type": "code",
      "source": [
        "d = np.zeros((N,N))\n",
        "# Calculate distance matrix\n",
        "for i in range(N):\n",
        "    for j in range(N):\n",
        "        d[i, j] = np.sqrt((city_x[i] - city_x[j])**2 + (city_y[i] - city_y[j])**2)\n",
        "\n",
        "print(d);"
      ],
      "metadata": {
        "id": "QCVpGtE6VXeg",
        "colab": {
          "base_uri": "https://localhost:8080/"
        },
        "outputId": "7d603ab9-323c-453d-e778-a42ecc911264"
      },
      "execution_count": null,
      "outputs": [
        {
          "output_type": "stream",
          "name": "stdout",
          "text": [
            "[[0.         0.55586543 0.23762635 0.44296208 0.37094032 0.24643828\n",
            "  0.48755071 0.65443321 0.21821401 0.09298449]\n",
            " [0.55586543 0.         0.57017555 0.23723199 0.38006968 0.72459275\n",
            "  0.77723735 0.18671456 0.7156655  0.63457718]\n",
            " [0.23762635 0.57017555 0.         0.55577966 0.23612764 0.47190011\n",
            "  0.26498617 0.5989746  0.18868444 0.2141163 ]\n",
            " [0.44296208 0.23723199 0.55577966 0.         0.45417535 0.54391467\n",
            "  0.80757706 0.41994878 0.64639372 0.53469176]\n",
            " [0.37094032 0.38006968 0.23612764 0.45417535 0.         0.6138173\n",
            "  0.39820959 0.36924522 0.42039306 0.40142625]\n",
            " [0.24643828 0.72459275 0.47190011 0.54391467 0.6138173  0.\n",
            "  0.69343592 0.85720922 0.37044762 0.26354796]\n",
            " [0.48755071 0.77723735 0.26498617 0.80757706 0.39820959 0.69343592\n",
            "  0.         0.75223003 0.32942786 0.43267777]\n",
            " [0.65443321 0.18671456 0.5989746  0.41994878 0.36924522 0.85720922\n",
            "  0.75223003 0.         0.77175813 0.71803754]\n",
            " [0.21821401 0.7156655  0.18868444 0.64639372 0.42039306 0.37044762\n",
            "  0.32942786 0.77175813 0.         0.13097396]\n",
            " [0.09298449 0.63457718 0.2141163  0.53469176 0.40142625 0.26354796\n",
            "  0.43267777 0.71803754 0.13097396 0.        ]]\n"
          ]
        }
      ]
    },
    {
      "cell_type": "code",
      "source": [
        "# Set parameters for network energy function\n",
        "# These values have been chosen based on trial and error to achieve good results for solving the TSP problem\n",
        "# These Parameters are used in the network energy function, which is used to calculate the energy of the Hopfield network\n",
        "#A : controls the impact of connections between the nodes in the same column of the weight matrix.\n",
        "#B : controls the impact of connections between the nodes in the same row of the weight matrix.\n",
        "#C : controls the overall level of activation in the network.\n",
        "#D : controls the input of the connection between b/w  neighboring nodes.\n",
        "A = 500 # penalize short edges and encourage long edges.\n",
        "B = 500 # penalize the intersection of edges. \n",
        "C = 1000 # encourage the edges to connect to each other in a cycle.\n",
        "D = 500 # encourage the edges to connect to each other in a cycle.\n",
        "alpha = 0.0001 #to control the strength of the weigth update during learning\n",
        "# Parameter alpha is the learning rate of the Hopfield network, and determines how quickly the network learns to minimize its energy."
      ],
      "metadata": {
        "id": "U2djFqFaVZJM"
      },
      "execution_count": null,
      "outputs": []
    },
    {
      "cell_type": "code",
      "source": [
        "# x-v-value of each node, y-u-input potential, u0-gamma\n",
        "\n",
        "def hopfield():\n",
        "    # scaling parameter used in the Hopfield network which shows the quality of the solution\n",
        "    #v - initial state of the network which will converge towards soln for TSP\n",
        "    #u - input potential of each node. \n",
        "    u0 = 0.02 \n",
        "    toend = 0\n",
        "    #This array is used to store the derivatives of the network energy function with respect to the input potential u.\n",
        "    udao = np.zeros((N, N)) \n",
        "    # This variable is used to keep track of the number of iterations it takes for the algorithm to converge\n",
        "    ctr = 0\n",
        "    # Starts a while loop that runs until toend is set to 1, \n",
        "    # which happens when a valid solution to the TSP is found.\n",
        "    while toend == 0:\n",
        "        ctr += 1\n",
        "        # U initialization\n",
        "        # Initializes the node values v and the input potential u \n",
        "        # using random values and a formula that depends on the number of cities N\n",
        "        v = np.random.rand(N,N)\n",
        "        u = np.ones([N, N])*(-u0*np.log(N-1)/2)\n",
        "        u += u*0.91\n",
        "        for _ in range(1000):\n",
        "            # Starts two nested for loops that iterate over all pairs of nodes in the network. \n",
        "            # vx is the index of the row and vi is the index of the column.\n",
        "            for vx in range(N):\n",
        "                for vi in range(N):\n",
        "                    j1, j2, j3, j4 = 0, 0, 0, 0\n",
        "                    #these are the parameters calculated to update the u of node in the direction that will reduce the energy function.\n",
        "                    #these will help us to penalize the network\n",
        "\n",
        "                    # derivative 1 (sum over columns j!=vi)\n",
        "                    # Calculates the first derivative of the network energy function \n",
        "                    # with respect to u[vx, vi]. \n",
        "                    # This derivative depends on the sum of the node values in the same row as vx, \n",
        "                    # excluding the node value in column vi.\n",
        "                    for j in range(N):\n",
        "                        if j != vi:\n",
        "                            j1 += v[vx, j]\n",
        "                    j1 *= -A\n",
        "                    # the energy of the network is increased when there are multiple nodes with value 1 in the same row. \n",
        "                    # This encourages the network to converge to a state where each row has at most one node with value 1.\n",
        "\n",
        "                    # derivative 2 (sum over rows y!=x)\n",
        "                    # Calculates the second derivative of the network energy function \n",
        "                    # with respect to u[vx, vi]. \n",
        "                    # This derivative depends on the sum of the node values in the same column as vi, \n",
        "                    # excluding the node value in row vx.\n",
        "                    \n",
        "                    for y in range(N):\n",
        "                        if y != vx:\n",
        "                            j2 += v[y, vi]\n",
        "                    j2 *= -B\n",
        "                    # penalty associated with two cities in the same row being selected at the same time.\n",
        "\n",
        "                    # derivative 3 (overall sum)\n",
        "                    # Calculates the third derivative of the network energy function\n",
        "                    # with respect to u[vx, vi]. \n",
        "                    # This derivative depends on the overall sum of the node values in the network.\n",
        "                    j3 = np.sum(v)\n",
        "                    j3 = -C*(j3-N)\n",
        "                    #  penalize the network if the number of nodes with value 1 is not equal to N. \n",
        "                    # Specifically, if the number of nodes with value 1 is less than N, \n",
        "                    # j3 will be negative, and the larger the difference, the more negative j3 will be, \n",
        "                    # penalizing the network more. If the number of nodes with value 1 is greater than N, \n",
        "                    # j3 will be positive, and the larger the difference, the more positive j3 will be, penalizing the network more. \n",
        "                    # Only if the number of nodes with value 1 is exactly equal to N will j3 be zero.\n",
        "\n",
        "                    # derivative 4\n",
        "                    # used as a penalty for the network to ensure that only one city is visited in each step of the tour.\n",
        "                    # The purpose of this contribution is to increase the energy (or cost) of the network when two adjacent cities are skipped in the tour, \n",
        "                    # thereby incentivizing the network to visit all cities in the tour.\n",
        "                    for y in range(N):\n",
        "                        if y != vx:\n",
        "                            if vi == 0:\n",
        "                                j4 += d[vx, y]*(v[y, vi+1]+v[y, N-1])\n",
        "                            elif vi == N-1:\n",
        "                                j4 += d[vx, y]*(v[y, vi-1]+v[y, 0])\n",
        "                            else:\n",
        "                                j4 += d[vx, y]*(v[y, vi+1]+v[y, vi-1])\n",
        "                    j4 *= -D\n",
        "                    # The penalty is proportional to the value of D, so increasing D will increase the penalty and make it less likely for the network to have many nodes with value 1.\n",
        "                    udao[vx, vi] = -u[vx, vi]+j1+j2+j3+j4\n",
        "                  \n",
        "                    # Finally, the code updates the status and derivatives by adding the derivative times the learning rate alpha to the current potentials (u). \n",
        "                    # The code then calculates the node values (v) by applying a sigmoid function to the potentials, \n",
        "                    # which is used to threshold the node values to either 0 or 1.\n",
        "\n",
        "          \n",
        "\n",
        "            u = u + alpha*udao\n",
        "\n",
        "            # calculate node value from input potential u\n",
        "            # calculates the output value of each neuron based on its current internal potential.\n",
        "            # np.tanh generates the number between -1 to 1 and whole expression converts is to 0 to 1\n",
        "            # This sigmoidal function is commonly used in neural networks to introduce nonlinearity and ensure that the output values are bounded\n",
        "            v = (1+np.tanh(u/u0)) / 2\n",
        "\n",
        "\n",
        "            # threshold\n",
        "            # This effectively discretizes the output of the neural network into binary values (0 or 1) based on a threshold.\n",
        "            # thresholding step is used to convert the output values from the Hopfield network to binary values.  \n",
        "            for vx in range(N):\n",
        "                for vi in range(N):\n",
        "                    if(v[vx, vi] < 0.7):\n",
        "                        v[vx, vi] = 0\n",
        "                    if(v[vx, vi] >= 0.7):\n",
        "                        v[vx, vi]=1\n",
        "\n",
        "        # testing whether solution is legal\n",
        "        t1, t2, t3 = 0, 0, 0\n",
        "\n",
        "        # require total of N-nodes with 1 value\n",
        "        # checking whether the total number of nodes with value 1 equals N, the total number of nodes in the network. \n",
        "        # iterating over all nodes and counting the number of nodes with value 1\n",
        "        # require total of N-nodes with 1 value\n",
        "        t1=0\n",
        "        for vx in range(N):\n",
        "            for vi in range(N):\n",
        "                t1+=v[vx, vi]\n",
        "\n",
        "        # allow only one node in each row equal 1\n",
        "        # checking whether each row of the network has at most one node with value 1.\n",
        "        # iterating over all rows and all pairs of nodes within the row, and checking whether both nodes have value 1\n",
        "        # allow only one node in each row equal 1\n",
        "        t2=0\n",
        "        for x in range(N):\n",
        "            for i in range(N-1):\n",
        "                for j in range(i+1, N):\n",
        "                    t2+=np.multiply(v[x, i], v[x, j])\n",
        "\n",
        "        # allow only one node in each column equal 1\n",
        "        # checks that there is at most one node with a value of 1 in each column of the network.\n",
        "        # allow only one node in each column equal 1\n",
        "        t3=0\n",
        "        for i in range(N):\n",
        "            for x in range(N-1):\n",
        "                for y in range(x+1, N):\n",
        "                    t3+=np.multiply(v[x, i], v[y, i])\n",
        "\n",
        "        # stop the loop after getting the valid solution\n",
        "        if t1 == N and t2 == 0 and t3 == 0:\n",
        "            toend = 1\n",
        "        else:\n",
        "            toend = 0\n",
        "    # returns the resulting matrix v and the number of iterations ctr that were required to obtain a valid solution.\n",
        "    return(v, ctr)"
      ],
      "metadata": {
        "id": "05OvUp-9VbYQ"
      },
      "execution_count": null,
      "outputs": []
    },
    {
      "cell_type": "code",
      "source": [
        "# This function takes the binary matrix v as input, \n",
        "# extracts the coordinates of the cities (nodes) in the tour, and calculates the total distance traveled in the tour. \n",
        "# It returns the total distance as well as the x- and y-coordinates of the cities in the tour\n",
        "#calculates the total distance of the path obtained by visiting the cities in the order specified by the input binary matrix\n",
        "\n",
        "def total_distance(v):\n",
        "    city_x_final = np.zeros((N+1))\n",
        "    city_y_final = np.zeros((N+1))\n",
        "\n",
        "    for j in range(N):\n",
        "        for i in range(N):\n",
        "            if v[i,j] == 1:\n",
        "                city_x_final[j] = city_x[i]\n",
        "                city_y_final[j] = city_y[i]\n",
        "\n",
        "    city_x_final[N] = city_x_final[0]\n",
        "    city_y_final[N] = city_y_final[0]\n",
        "\n",
        "    # calculate the total distance\n",
        "    td = 0\n",
        "    for i in range(N-1):\n",
        "        td += np.sqrt((city_x_final[i] - city_x_final[i+1])**2\n",
        "                    + (city_y_final[i] - city_y_final[i+1])**2)\n",
        "    td += np.sqrt((city_x_final[N-1] - city_x_final[0])**2\n",
        "                + (city_y_final[N-1] - city_y_final[0])**2)\n",
        "    \n",
        "    return(td, city_x_final, city_y_final)"
      ],
      "metadata": {
        "id": "7C2tQY8rVdtB"
      },
      "execution_count": null,
      "outputs": []
    },
    {
      "cell_type": "code",
      "source": [
        "#It initializes a v matrix with zeros\n",
        "v = np.zeros([N,N])\n",
        "\n",
        "ct = 0\n",
        "\n",
        "min_dist = 20\n",
        "best_path = None\n",
        "\n",
        "# runs the hopfield() function 20 times and \n",
        "# at each iteration, checks if the resulting path has a lower total distance than the current minimum distance. \n",
        "# If the total distance is less than the previous minimum distance, \n",
        "# it updates the minimum distance and stores the binary matrix as the best path\n",
        "\n",
        "for i in range(20):\n",
        "    v, steps = hopfield()\n",
        "    print(v)\n",
        "    td, _, _ = total_distance(v)\n",
        "    print(f\"Epoch {i}: Ran for {steps} steps, total distance {td}\")\n",
        "    if td < min_dist:\n",
        "        min_dist = td\n",
        "        best_path = v\n",
        "print(min_dist)\n",
        "print(best_path)\n",
        "# At the end of the loop, it prints the final minimum distance and the best path found.\n"
      ],
      "metadata": {
        "id": "EAbrdudeVfZM",
        "colab": {
          "base_uri": "https://localhost:8080/"
        },
        "outputId": "5efbebf9-6275-4dc5-c35e-42752b9c1674"
      },
      "execution_count": null,
      "outputs": [
        {
          "output_type": "stream",
          "name": "stdout",
          "text": [
            "[[0. 0. 0. 0. 0. 0. 0. 0. 0. 1.]\n",
            " [0. 0. 0. 0. 0. 1. 0. 0. 0. 0.]\n",
            " [0. 0. 0. 0. 1. 0. 0. 0. 0. 0.]\n",
            " [0. 0. 0. 0. 0. 0. 0. 1. 0. 0.]\n",
            " [0. 0. 0. 0. 0. 0. 0. 0. 1. 0.]\n",
            " [0. 1. 0. 0. 0. 0. 0. 0. 0. 0.]\n",
            " [0. 0. 0. 1. 0. 0. 0. 0. 0. 0.]\n",
            " [0. 0. 0. 0. 0. 0. 1. 0. 0. 0.]\n",
            " [0. 0. 1. 0. 0. 0. 0. 0. 0. 0.]\n",
            " [1. 0. 0. 0. 0. 0. 0. 0. 0. 0.]]\n",
            "Epoch 0: Ran for 13 steps, total distance 3.3233486623836566\n",
            "[[0. 0. 0. 0. 0. 0. 1. 0. 0. 0.]\n",
            " [0. 0. 1. 0. 0. 0. 0. 0. 0. 0.]\n",
            " [0. 0. 0. 0. 0. 0. 0. 0. 1. 0.]\n",
            " [0. 0. 0. 0. 1. 0. 0. 0. 0. 0.]\n",
            " [0. 1. 0. 0. 0. 0. 0. 0. 0. 0.]\n",
            " [0. 0. 0. 0. 0. 0. 0. 1. 0. 0.]\n",
            " [1. 0. 0. 0. 0. 0. 0. 0. 0. 0.]\n",
            " [0. 0. 0. 1. 0. 0. 0. 0. 0. 0.]\n",
            " [0. 0. 0. 0. 0. 0. 0. 0. 0. 1.]\n",
            " [0. 0. 0. 0. 0. 1. 0. 0. 0. 0.]]\n",
            "Epoch 1: Ran for 3 steps, total distance 3.2490695643593552\n",
            "[[0. 1. 0. 0. 0. 0. 0. 0. 0. 0.]\n",
            " [0. 0. 0. 0. 0. 0. 0. 0. 1. 0.]\n",
            " [0. 0. 0. 0. 1. 0. 0. 0. 0. 0.]\n",
            " [0. 0. 0. 0. 0. 0. 0. 0. 0. 1.]\n",
            " [0. 0. 0. 0. 0. 0. 1. 0. 0. 0.]\n",
            " [1. 0. 0. 0. 0. 0. 0. 0. 0. 0.]\n",
            " [0. 0. 0. 1. 0. 0. 0. 0. 0. 0.]\n",
            " [0. 0. 0. 0. 0. 0. 0. 1. 0. 0.]\n",
            " [0. 0. 0. 0. 0. 1. 0. 0. 0. 0.]\n",
            " [0. 0. 1. 0. 0. 0. 0. 0. 0. 0.]]\n",
            "Epoch 2: Ran for 27 steps, total distance 2.983270667570208\n",
            "[[0. 0. 1. 0. 0. 0. 0. 0. 0. 0.]\n",
            " [0. 0. 0. 0. 0. 1. 0. 0. 0. 0.]\n",
            " [1. 0. 0. 0. 0. 0. 0. 0. 0. 0.]\n",
            " [0. 0. 0. 0. 0. 0. 1. 0. 0. 0.]\n",
            " [0. 0. 0. 1. 0. 0. 0. 0. 0. 0.]\n",
            " [0. 0. 0. 0. 0. 0. 0. 1. 0. 0.]\n",
            " [0. 1. 0. 0. 0. 0. 0. 0. 0. 0.]\n",
            " [0. 0. 0. 0. 1. 0. 0. 0. 0. 0.]\n",
            " [0. 0. 0. 0. 0. 0. 0. 0. 1. 0.]\n",
            " [0. 0. 0. 0. 0. 0. 0. 0. 0. 1.]]\n",
            "Epoch 3: Ran for 4 steps, total distance 3.1761215421570794\n",
            "[[0. 0. 1. 0. 0. 0. 0. 0. 0. 0.]\n",
            " [0. 0. 0. 0. 0. 1. 0. 0. 0. 0.]\n",
            " [0. 0. 0. 0. 0. 0. 0. 0. 1. 0.]\n",
            " [0. 0. 0. 0. 1. 0. 0. 0. 0. 0.]\n",
            " [0. 0. 0. 0. 0. 0. 0. 1. 0. 0.]\n",
            " [0. 1. 0. 0. 0. 0. 0. 0. 0. 0.]\n",
            " [0. 0. 0. 0. 0. 0. 0. 0. 0. 1.]\n",
            " [0. 0. 0. 0. 0. 0. 1. 0. 0. 0.]\n",
            " [1. 0. 0. 0. 0. 0. 0. 0. 0. 0.]\n",
            " [0. 0. 0. 1. 0. 0. 0. 0. 0. 0.]]\n",
            "Epoch 4: Ran for 3 steps, total distance 2.868295603745608\n",
            "[[1. 0. 0. 0. 0. 0. 0. 0. 0. 0.]\n",
            " [0. 0. 1. 0. 0. 0. 0. 0. 0. 0.]\n",
            " [0. 0. 0. 0. 0. 0. 1. 0. 0. 0.]\n",
            " [0. 1. 0. 0. 0. 0. 0. 0. 0. 0.]\n",
            " [0. 0. 0. 0. 1. 0. 0. 0. 0. 0.]\n",
            " [0. 0. 0. 0. 0. 0. 0. 0. 0. 1.]\n",
            " [0. 0. 0. 0. 0. 1. 0. 0. 0. 0.]\n",
            " [0. 0. 0. 1. 0. 0. 0. 0. 0. 0.]\n",
            " [0. 0. 0. 0. 0. 0. 0. 1. 0. 0.]\n",
            " [0. 0. 0. 0. 0. 0. 0. 0. 1. 0.]]\n",
            "Epoch 5: Ran for 2 steps, total distance 2.728994260510732\n",
            "[[0. 0. 0. 0. 0. 0. 0. 0. 0. 1.]\n",
            " [0. 0. 0. 1. 0. 0. 0. 0. 0. 0.]\n",
            " [1. 0. 0. 0. 0. 0. 0. 0. 0. 0.]\n",
            " [0. 0. 0. 0. 0. 1. 0. 0. 0. 0.]\n",
            " [0. 0. 1. 0. 0. 0. 0. 0. 0. 0.]\n",
            " [0. 0. 0. 0. 0. 0. 1. 0. 0. 0.]\n",
            " [0. 1. 0. 0. 0. 0. 0. 0. 0. 0.]\n",
            " [0. 0. 0. 0. 1. 0. 0. 0. 0. 0.]\n",
            " [0. 0. 0. 0. 0. 0. 0. 0. 1. 0.]\n",
            " [0. 0. 0. 0. 0. 0. 0. 1. 0. 0.]]\n",
            "Epoch 6: Ran for 3 steps, total distance 3.0442057327970597\n",
            "[[0. 0. 0. 0. 0. 0. 0. 1. 0. 0.]\n",
            " [0. 0. 0. 1. 0. 0. 0. 0. 0. 0.]\n",
            " [0. 0. 0. 0. 1. 0. 0. 0. 0. 0.]\n",
            " [0. 1. 0. 0. 0. 0. 0. 0. 0. 0.]\n",
            " [1. 0. 0. 0. 0. 0. 0. 0. 0. 0.]\n",
            " [0. 0. 0. 0. 0. 0. 0. 0. 1. 0.]\n",
            " [0. 0. 0. 0. 0. 1. 0. 0. 0. 0.]\n",
            " [0. 0. 1. 0. 0. 0. 0. 0. 0. 0.]\n",
            " [0. 0. 0. 0. 0. 0. 1. 0. 0. 0.]\n",
            " [0. 0. 0. 0. 0. 0. 0. 0. 0. 1.]]\n",
            "Epoch 7: Ran for 7 steps, total distance 3.355054759942739\n",
            "[[0. 0. 0. 0. 0. 0. 0. 0. 0. 1.]\n",
            " [0. 0. 0. 0. 0. 0. 1. 0. 0. 0.]\n",
            " [0. 0. 0. 1. 0. 0. 0. 0. 0. 0.]\n",
            " [0. 0. 0. 0. 0. 0. 0. 1. 0. 0.]\n",
            " [0. 0. 0. 0. 1. 0. 0. 0. 0. 0.]\n",
            " [0. 0. 0. 0. 0. 0. 0. 0. 1. 0.]\n",
            " [0. 0. 1. 0. 0. 0. 0. 0. 0. 0.]\n",
            " [0. 0. 0. 0. 0. 1. 0. 0. 0. 0.]\n",
            " [0. 1. 0. 0. 0. 0. 0. 0. 0. 0.]\n",
            " [1. 0. 0. 0. 0. 0. 0. 0. 0. 0.]]\n",
            "Epoch 8: Ran for 5 steps, total distance 2.6380448548001327\n",
            "[[0. 1. 0. 0. 0. 0. 0. 0. 0. 0.]\n",
            " [0. 0. 0. 0. 0. 0. 0. 0. 1. 0.]\n",
            " [0. 0. 0. 0. 0. 0. 1. 0. 0. 0.]\n",
            " [0. 0. 0. 0. 0. 0. 0. 0. 0. 1.]\n",
            " [0. 0. 0. 0. 0. 1. 0. 0. 0. 0.]\n",
            " [1. 0. 0. 0. 0. 0. 0. 0. 0. 0.]\n",
            " [0. 0. 0. 0. 1. 0. 0. 0. 0. 0.]\n",
            " [0. 0. 0. 0. 0. 0. 0. 1. 0. 0.]\n",
            " [0. 0. 0. 1. 0. 0. 0. 0. 0. 0.]\n",
            " [0. 0. 1. 0. 0. 0. 0. 0. 0. 0.]]\n",
            "Epoch 9: Ran for 2 steps, total distance 3.0009976483418748\n",
            "[[0. 0. 0. 0. 0. 0. 0. 0. 1. 0.]\n",
            " [0. 0. 0. 0. 0. 0. 0. 0. 0. 1.]\n",
            " [0. 0. 0. 0. 1. 0. 0. 0. 0. 0.]\n",
            " [0. 1. 0. 0. 0. 0. 0. 0. 0. 0.]\n",
            " [0. 0. 1. 0. 0. 0. 0. 0. 0. 0.]\n",
            " [0. 0. 0. 0. 0. 0. 1. 0. 0. 0.]\n",
            " [0. 0. 0. 1. 0. 0. 0. 0. 0. 0.]\n",
            " [1. 0. 0. 0. 0. 0. 0. 0. 0. 0.]\n",
            " [0. 0. 0. 0. 0. 1. 0. 0. 0. 0.]\n",
            " [0. 0. 0. 0. 0. 0. 0. 1. 0. 0.]]\n",
            "Epoch 10: Ran for 12 steps, total distance 3.1955643913882614\n",
            "[[0. 0. 0. 0. 0. 0. 0. 1. 0. 0.]\n",
            " [0. 0. 0. 0. 0. 1. 0. 0. 0. 0.]\n",
            " [0. 1. 0. 0. 0. 0. 0. 0. 0. 0.]\n",
            " [0. 0. 0. 1. 0. 0. 0. 0. 0. 0.]\n",
            " [0. 0. 0. 0. 0. 0. 1. 0. 0. 0.]\n",
            " [0. 0. 1. 0. 0. 0. 0. 0. 0. 0.]\n",
            " [1. 0. 0. 0. 0. 0. 0. 0. 0. 0.]\n",
            " [0. 0. 0. 0. 1. 0. 0. 0. 0. 0.]\n",
            " [0. 0. 0. 0. 0. 0. 0. 0. 0. 1.]\n",
            " [0. 0. 0. 0. 0. 0. 0. 0. 1. 0.]]\n",
            "Epoch 11: Ran for 28 steps, total distance 3.191860618099216\n",
            "[[0. 0. 0. 0. 0. 0. 0. 0. 0. 1.]\n",
            " [0. 0. 1. 0. 0. 0. 0. 0. 0. 0.]\n",
            " [0. 0. 0. 0. 0. 1. 0. 0. 0. 0.]\n",
            " [0. 1. 0. 0. 0. 0. 0. 0. 0. 0.]\n",
            " [0. 0. 0. 0. 1. 0. 0. 0. 0. 0.]\n",
            " [1. 0. 0. 0. 0. 0. 0. 0. 0. 0.]\n",
            " [0. 0. 0. 0. 0. 0. 1. 0. 0. 0.]\n",
            " [0. 0. 0. 1. 0. 0. 0. 0. 0. 0.]\n",
            " [0. 0. 0. 0. 0. 0. 0. 1. 0. 0.]\n",
            " [0. 0. 0. 0. 0. 0. 0. 0. 1. 0.]]\n",
            "Epoch 12: Ran for 1 steps, total distance 2.6380448548001327\n",
            "[[0. 0. 0. 0. 0. 1. 0. 0. 0. 0.]\n",
            " [0. 0. 1. 0. 0. 0. 0. 0. 0. 0.]\n",
            " [0. 0. 0. 0. 0. 0. 0. 0. 1. 0.]\n",
            " [0. 0. 0. 1. 0. 0. 0. 0. 0. 0.]\n",
            " [1. 0. 0. 0. 0. 0. 0. 0. 0. 0.]\n",
            " [0. 0. 0. 0. 0. 0. 1. 0. 0. 0.]\n",
            " [0. 0. 0. 0. 0. 0. 0. 0. 0. 1.]\n",
            " [0. 1. 0. 0. 0. 0. 0. 0. 0. 0.]\n",
            " [0. 0. 0. 0. 0. 0. 0. 1. 0. 0.]\n",
            " [0. 0. 0. 0. 1. 0. 0. 0. 0. 0.]]\n",
            "Epoch 13: Ran for 3 steps, total distance 2.889634138427449\n",
            "[[0. 0. 0. 0. 0. 1. 0. 0. 0. 0.]\n",
            " [0. 0. 0. 0. 0. 0. 0. 0. 1. 0.]\n",
            " [0. 0. 0. 1. 0. 0. 0. 0. 0. 0.]\n",
            " [0. 0. 0. 0. 0. 0. 0. 0. 0. 1.]\n",
            " [0. 0. 0. 0. 0. 0. 1. 0. 0. 0.]\n",
            " [1. 0. 0. 0. 0. 0. 0. 0. 0. 0.]\n",
            " [0. 0. 0. 0. 1. 0. 0. 0. 0. 0.]\n",
            " [0. 0. 0. 0. 0. 0. 0. 1. 0. 0.]\n",
            " [0. 0. 1. 0. 0. 0. 0. 0. 0. 0.]\n",
            " [0. 1. 0. 0. 0. 0. 0. 0. 0. 0.]]\n",
            "Epoch 14: Ran for 1 steps, total distance 3.0437900133038482\n",
            "[[0. 0. 0. 0. 0. 1. 0. 0. 0. 0.]\n",
            " [0. 0. 0. 0. 0. 0. 0. 0. 1. 0.]\n",
            " [0. 0. 1. 0. 0. 0. 0. 0. 0. 0.]\n",
            " [0. 0. 0. 0. 0. 0. 0. 1. 0. 0.]\n",
            " [1. 0. 0. 0. 0. 0. 0. 0. 0. 0.]\n",
            " [0. 0. 0. 0. 0. 0. 1. 0. 0. 0.]\n",
            " [0. 1. 0. 0. 0. 0. 0. 0. 0. 0.]\n",
            " [0. 0. 0. 0. 0. 0. 0. 0. 0. 1.]\n",
            " [0. 0. 0. 1. 0. 0. 0. 0. 0. 0.]\n",
            " [0. 0. 0. 0. 1. 0. 0. 0. 0. 0.]]\n",
            "Epoch 15: Ran for 4 steps, total distance 2.659383389481974\n",
            "[[0. 0. 0. 0. 0. 1. 0. 0. 0. 0.]\n",
            " [0. 0. 0. 0. 0. 0. 1. 0. 0. 0.]\n",
            " [1. 0. 0. 0. 0. 0. 0. 0. 0. 0.]\n",
            " [0. 0. 0. 0. 0. 0. 0. 0. 1. 0.]\n",
            " [0. 0. 0. 0. 0. 0. 0. 0. 0. 1.]\n",
            " [0. 1. 0. 0. 0. 0. 0. 0. 0. 0.]\n",
            " [0. 0. 1. 0. 0. 0. 0. 0. 0. 0.]\n",
            " [0. 0. 0. 0. 0. 0. 0. 1. 0. 0.]\n",
            " [0. 0. 0. 1. 0. 0. 0. 0. 0. 0.]\n",
            " [0. 0. 0. 0. 1. 0. 0. 0. 0. 0.]]\n",
            "Epoch 16: Ran for 1 steps, total distance 3.5715540919663757\n",
            "[[0. 0. 0. 0. 0. 0. 0. 0. 1. 0.]\n",
            " [0. 0. 0. 1. 0. 0. 0. 0. 0. 0.]\n",
            " [1. 0. 0. 0. 0. 0. 0. 0. 0. 0.]\n",
            " [0. 0. 0. 0. 1. 0. 0. 0. 0. 0.]\n",
            " [0. 1. 0. 0. 0. 0. 0. 0. 0. 0.]\n",
            " [0. 0. 0. 0. 0. 0. 0. 1. 0. 0.]\n",
            " [0. 0. 0. 0. 0. 0. 0. 0. 0. 1.]\n",
            " [0. 0. 1. 0. 0. 0. 0. 0. 0. 0.]\n",
            " [0. 0. 0. 0. 0. 1. 0. 0. 0. 0.]\n",
            " [0. 0. 0. 0. 0. 0. 1. 0. 0. 0.]]\n",
            "Epoch 17: Ran for 2 steps, total distance 3.0692102090024926\n",
            "[[0. 0. 0. 0. 0. 0. 0. 0. 1. 0.]\n",
            " [0. 0. 0. 0. 0. 1. 0. 0. 0. 0.]\n",
            " [0. 0. 0. 0. 0. 0. 0. 1. 0. 0.]\n",
            " [0. 0. 0. 0. 0. 0. 1. 0. 0. 0.]\n",
            " [0. 0. 0. 1. 0. 0. 0. 0. 0. 0.]\n",
            " [0. 0. 0. 0. 0. 0. 0. 0. 0. 1.]\n",
            " [0. 0. 1. 0. 0. 0. 0. 0. 0. 0.]\n",
            " [0. 0. 0. 0. 1. 0. 0. 0. 0. 0.]\n",
            " [0. 1. 0. 0. 0. 0. 0. 0. 0. 0.]\n",
            " [1. 0. 0. 0. 0. 0. 0. 0. 0. 0.]]\n",
            "Epoch 18: Ran for 3 steps, total distance 2.9551954286793247\n",
            "[[0. 0. 0. 0. 0. 0. 0. 0. 0. 1.]\n",
            " [0. 0. 0. 0. 0. 0. 0. 1. 0. 0.]\n",
            " [0. 0. 0. 1. 0. 0. 0. 0. 0. 0.]\n",
            " [0. 0. 0. 0. 0. 0. 0. 0. 1. 0.]\n",
            " [0. 0. 0. 0. 0. 1. 0. 0. 0. 0.]\n",
            " [1. 0. 0. 0. 0. 0. 0. 0. 0. 0.]\n",
            " [0. 0. 0. 0. 1. 0. 0. 0. 0. 0.]\n",
            " [0. 0. 0. 0. 0. 0. 1. 0. 0. 0.]\n",
            " [0. 0. 1. 0. 0. 0. 0. 0. 0. 0.]\n",
            " [0. 1. 0. 0. 0. 0. 0. 0. 0. 0.]]\n",
            "Epoch 19: Ran for 1 steps, total distance 2.728994260510732\n",
            "2.6380448548001327\n",
            "[[0. 0. 0. 0. 0. 0. 0. 0. 0. 1.]\n",
            " [0. 0. 0. 0. 0. 0. 1. 0. 0. 0.]\n",
            " [0. 0. 0. 1. 0. 0. 0. 0. 0. 0.]\n",
            " [0. 0. 0. 0. 0. 0. 0. 1. 0. 0.]\n",
            " [0. 0. 0. 0. 1. 0. 0. 0. 0. 0.]\n",
            " [0. 0. 0. 0. 0. 0. 0. 0. 1. 0.]\n",
            " [0. 0. 1. 0. 0. 0. 0. 0. 0. 0.]\n",
            " [0. 0. 0. 0. 0. 1. 0. 0. 0. 0.]\n",
            " [0. 1. 0. 0. 0. 0. 0. 0. 0. 0.]\n",
            " [1. 0. 0. 0. 0. 0. 0. 0. 0. 0.]]\n"
          ]
        }
      ]
    },
    {
      "cell_type": "code",
      "source": [
        "# takes in a Hopfield network state v and returns a string representation of the optimal route for the Traveling Salesman Problem (TSP) found by the network.\n",
        "# The function does this by iterating over each column of the state matrix and appending the index of the row with the highest activation to a string, \n",
        "# separated by arrows ->. Finally, the first index is appended to the end to create a cycle.\n",
        "#search for 1 column wise in  the best path matrix\n",
        "def get_route(v):\n",
        "    route = \"\"\n",
        "    for j in range(v.shape[1]):\n",
        "        route += str(np.argmax(v[:, j])) + ' -> '\n",
        "    return (route + str(np.argmax(v[:, 0])))\n",
        "#For each column, it finds the row with the highest value (which will be 1 in the case of the Hopfield network), using the np.argmax() function.\n",
        "#after the loop has finished, it appends the index of the first city to the route string to complete the tour.\n",
        "\n",
        "# For example, if v is a 5x5 matrix representing the optimal state of the Hopfield network for the TSP, \n",
        "# get_route(v) might return the string \"3 -> 1 -> 0 -> 4 -> 2 -> 3\", indicating that the optimal route starts at node 3, \n",
        "# then goes to node 1, node 0, and so on, before returning to node 3 to complete the cycle.    "
      ],
      "metadata": {
        "id": "O0FPDGzRVhiE"
      },
      "execution_count": null,
      "outputs": []
    },
    {
      "cell_type": "code",
      "source": [
        "print(get_route(best_path))"
      ],
      "metadata": {
        "id": "twOUatsgVjTq",
        "colab": {
          "base_uri": "https://localhost:8080/"
        },
        "outputId": "62ab3dda-34ef-4078-a410-541e9dacfe8c"
      },
      "execution_count": null,
      "outputs": [
        {
          "output_type": "stream",
          "name": "stdout",
          "text": [
            "9 -> 8 -> 6 -> 2 -> 4 -> 7 -> 1 -> 3 -> 5 -> 0 -> 9\n"
          ]
        }
      ]
    },
    {
      "cell_type": "code",
      "source": [
        "\n",
        "def get_route_indices(v):\n",
        "    indices = []\n",
        "    for j in range(v.shape[1]):\n",
        "        indices.append(np.argmax(v[:, j]))\n",
        "    indices.append(np.argmax(v[:, 0]))\n",
        "    return indices"
      ],
      "metadata": {
        "id": "ziN-BfoOVlJb"
      },
      "execution_count": null,
      "outputs": []
    },
    {
      "cell_type": "code",
      "source": [
        "\n",
        "indices = get_route_indices(best_path)\n",
        "print(indices)"
      ],
      "metadata": {
        "id": "LF4mMVTaVmz9",
        "colab": {
          "base_uri": "https://localhost:8080/"
        },
        "outputId": "83d45818-5fbb-46b2-d99c-c79afc7d31f6"
      },
      "execution_count": null,
      "outputs": [
        {
          "output_type": "stream",
          "name": "stdout",
          "text": [
            "[9, 8, 6, 2, 4, 7, 1, 3, 5, 0, 9]\n"
          ]
        }
      ]
    },
    {
      "cell_type": "code",
      "source": [
        "# indices = get_route_indices(best_path)\n",
        "for i in indices[1:]:\n",
        "    plt.plot([city_x[i], city_x[i-1]], [city_y[i], city_y[i-1]], '-')\n",
        "plt.show()"
      ],
      "metadata": {
        "id": "ia8KcY9N0TTn",
        "colab": {
          "base_uri": "https://localhost:8080/",
          "height": 265
        },
        "outputId": "98f5ecd3-42a1-4600-d751-0ac0f405bd69"
      },
      "execution_count": null,
      "outputs": [
        {
          "output_type": "display_data",
          "data": {
            "text/plain": [
              "<Figure size 432x288 with 1 Axes>"
            ],
            "image/png": "[encoded data removed]"
          },
          "metadata": {
            "needs_background": "light"
          }
        }
      ]
    }
  ]
}