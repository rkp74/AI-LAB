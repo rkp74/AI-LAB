{
  "nbformat": 4,
  "nbformat_minor": 0,
  "metadata": {
    "colab": {
      "provenance": []
    },
    "kernelspec": {
      "name": "python3",
      "display_name": "Python 3"
    },
    "language_info": {
      "name": "python"
    }
  },
  "cells": [
    {
      "cell_type": "markdown",
      "source": [
        "Importing Libraries"
      ],
      "metadata": {
        "id": "kJ0KKms4P6Ra"
      }
    },
    {
      "cell_type": "code",
      "execution_count": 25,
      "metadata": {
        "id": "I84FoZg4OHe_"
      },
      "outputs": [],
      "source": [
        "import numpy as np\n",
        "import sys\n",
        "from time import time"
      ]
    },
    {
      "cell_type": "markdown",
      "source": [
        "Node Implementation:\\\n",
        "Node contains following five informations:\n",
        "1. Parent node\n",
        "2. State\n",
        "3. Path Cost\n",
        "4. Heuristic cost\n",
        "5. Total cost = Path Cost + Heuristic cost \n",
        "\n",
        "It uses the following built-in functions:\n",
        "1. __ hash__ : This provides the hash value for every node, which is required for the hashset\n",
        "2. __ eq__ : To check if 2 nodes are equal \n",
        "3. __ neq__ : To check if 2 nodes are not equal \n",
        "4. __ str__ : To get string representation of state in node"
      ],
      "metadata": {
        "id": "KHIVfPuBP-gP"
      }
    },
    {
      "cell_type": "code",
      "source": [
        "class Node:\n",
        "    def __init__(self, parent, state, pcost, hcost):\n",
        "        \n",
        "        self.parent = parent\n",
        "        self.state = state\n",
        "        # parent cost\n",
        "        self.pcost = pcost\n",
        "        # Heuristic cost\n",
        "        self.hcost = hcost\n",
        "        # Total Cost = Parent cost + Heuristic cost\n",
        "        self.cost = pcost + hcost\n",
        "    \n",
        "    # Provides hsah value\n",
        "    def __hash__(self):\n",
        "        \n",
        "        return hash(''.join(self.state.flatten()))\n",
        "    \n",
        "    # Get string representation\n",
        "    def __str__(self):\n",
        "        return str(self.state)\n",
        "    \n",
        "    # Check 2 nodes are equal\n",
        "    def __eq__(self, other):\n",
        "        \n",
        "        return hash(''.join(self.state.flatten())) == hash(''.join(other.state.flatten())) \n",
        "    \n",
        "    # Check 2 nodes are unequal\n",
        "    def __neq__(self, other):\n",
        "        return hash(''.join(self.state.flatten())) != hash(''.join(other.state.flatten()))"
      ],
      "metadata": {
        "id": "sZHFzGIxOPIH"
      },
      "execution_count": 26,
      "outputs": []
    },
    {
      "cell_type": "markdown",
      "source": [
        "PriorityQueue Implementation:\\\n",
        "It pops the node with having the lowest cost.\\\n",
        "It uses the following functions:\n",
        "1. push = Add node to the queue\n",
        "2. pop = Pop out node with the lowest cost\n",
        "3. is_empty = Check whether queue is empty or not\n",
        "4. __ len __ = gets the lengthof the queue\n",
        "5. __ str __ = to get string representation of the queue"
      ],
      "metadata": {
        "id": "ihfM2ltNqOge"
      }
    },
    {
      "cell_type": "code",
      "source": [
        "class PriorityQueue():\n",
        "    \n",
        "    def __init__(self):\n",
        "        self.queue = []\n",
        "        \n",
        "    def push(self, node):\n",
        "        self.queue.append(node)\n",
        "    \n",
        "    def pop(self):\n",
        "        \n",
        "        next_state = None\n",
        "        state_cost = 10**18\n",
        "        index = -1\n",
        "        \n",
        "        for i in range(len(self.queue)):\n",
        "            # checking for the node with the mininmum cost\n",
        "            if self.queue[i].cost<state_cost:\n",
        "                state_cost = self.queue[i].cost\n",
        "                index = i\n",
        "        \n",
        "        return self.queue.pop(index)\n",
        "    \n",
        "    def is_empty(self):\n",
        "        \n",
        "        return len(self.queue)==0\n",
        "    \n",
        "    def __str__(self):\n",
        "        l = []\n",
        "        for i in self.queue:\n",
        "            l.append(i.state)\n",
        "        \n",
        "        return str(l)\n",
        "    \n",
        "    def __len__(self):\n",
        "        return len(self.queue)"
      ],
      "metadata": {
        "id": "wehNZxrBOSTu"
      },
      "execution_count": 27,
      "outputs": []
    },
    {
      "cell_type": "markdown",
      "source": [
        "Environment Implementation:\\\n",
        "It has the following information:\n",
        "1. Start state\n",
        "2. Goal State\n",
        "3. Actions that are to applied to node\n",
        "4. Maximum depth of the solution\n",
        "\n",
        "It makes use of the following functions:\n",
        "1. generate_start_state : Genenates start state\n",
        "2. get_start_state : Returns the start state\n",
        "3. get_next_states : It returns all possible next states for a given current state \n",
        "4. reached_goal : Returns goal_state\n",
        "\n"
      ],
      "metadata": {
        "id": "6OLhpGqTxEtB"
      }
    },
    {
      "cell_type": "code",
      "source": [
        "\n",
        "class Environment():\n",
        "    \n",
        "    def __init__(self, depth = None, goal_state = None):\n",
        "        #1 - Up, 2 - Down, 3 - Right, 4 - Left\n",
        "        self.actions = [1,2,3,4] \n",
        "        self.goal_state = goal_state\n",
        "        self.depth = depth\n",
        "        self.start_state = self.generate_start_state()\n",
        "    \n",
        "    # generates new states\n",
        "    def generate_start_state(self):\n",
        "        \n",
        "        past_state = self.goal_state\n",
        "        i=0\n",
        "\n",
        "        while i!= self.depth:\n",
        "            new_states = self.get_next_states(past_state)\n",
        "            choice = np.random.randint(low=0, high=len(new_states))\n",
        "            \n",
        "            if np.array_equal(new_states[choice], past_state):\n",
        "                continue\n",
        "            \n",
        "            past_state = new_states[choice]\n",
        "            i+=1\n",
        "            \n",
        "        return past_state\n",
        "    \n",
        "    # returns start state\n",
        "    def get_start_state(self):\n",
        "        return self.start_state\n",
        "    \n",
        "    # returns goal state\n",
        "    def get_goal_state(self):\n",
        "        return self.goal_state\n",
        "    \n",
        "    # generating new states from given state\n",
        "    def get_next_states(self, state):\n",
        "        \n",
        "        space = (0,0)\n",
        "        for i in range(3):\n",
        "            for j in range(3):\n",
        "                if state[i,j] == '_':\n",
        "                    space = (i,j)\n",
        "                    break\n",
        "        \n",
        "        new_states = []\n",
        "\n",
        "        # Move Up if \"_\" is in row1 or row2 \n",
        "        if space[0] > 0:\n",
        "            new_state = np.copy(state)\n",
        "            \n",
        "            # Swapping of values\n",
        "            val = new_state[space[0], space[1]]\n",
        "            new_state[space[0], space[1]]  = new_state[space[0]-1, space[1]]\n",
        "            new_state[space[0]-1, space[1]] = val\n",
        "            \n",
        "            new_states.append(new_state)\n",
        "\n",
        "        # Move down if \"_\" is in row0 or row1\n",
        "        if space[0] < 2: \n",
        "            new_state = np.copy(state)\n",
        "            \n",
        "            # Swapping of values\n",
        "            val = new_state[space[0], space[1]]\n",
        "            new_state[space[0], space[1]]  = new_state[space[0]+1, space[1]]\n",
        "            new_state[space[0]+1, space[1]] = val\n",
        "            \n",
        "            new_states.append(new_state)\n",
        "        \n",
        "        # Move right if \"_\" is in column0 or column1\n",
        "        if space[1]<2: \n",
        "            new_state = np.copy(state)\n",
        "            \n",
        "            # Swapping of values\n",
        "            val = new_state[space[0], space[1]]\n",
        "            new_state[space[0], space[1]] = new_state[space[0], space[1]+1]\n",
        "            new_state[space[0], space[1]+1] = val\n",
        "            \n",
        "            new_states.append(new_state)\n",
        "\n",
        "        # Move left if \"_\" is in column1 or column2    \n",
        "        if space[1] > 0: \n",
        "            new_state = np.copy(state)\n",
        "            \n",
        "            # Swapping of values\n",
        "            val = new_state[space[0], space[1]]\n",
        "            new_state[space[0], space[1]] = new_state[space[0], space[1]-1]\n",
        "            new_state[space[0], space[1]-1] = val\n",
        "            \n",
        "            new_states.append(new_state)\n",
        "        \n",
        "        return new_states\n",
        "    \n",
        "    # Checks whether it is goal state or not\n",
        "    def reached_goal(self, state):\n",
        "        \n",
        "        for i in range(3):\n",
        "            for j in range(3):\n",
        "                if state[i,j] != self.goal_state[i,j]:\n",
        "                    return False\n",
        "        \n",
        "        return True"
      ],
      "metadata": {
        "id": "Ibfez1SGOXG_"
      },
      "execution_count": 28,
      "outputs": []
    },
    {
      "cell_type": "markdown",
      "source": [
        "Agent Implementation:\\\n",
        "It has the following information:\n",
        "1. Frontier = priority queue which stores the nodes to be explored by the agent\n",
        "2. explored = It stores the explored nodes\n",
        "3. start_state = Stores the start state\n",
        "4. goal_state = Stores the goal state\n",
        "5. env = Stores the environment\n",
        "6. goal_node = If found,then Stores the goal node\n",
        "7. heuristic = stores the heuristic function\n",
        "\n",
        "It has the following functions:\n",
        "1. run = Function that explores the environment and finds the goal node\n",
        "2. soln_depth = return depth at which solution is found\n",
        "3. print_nodes = Print the path from start state to goal state\n",
        "4. get_memory = return memory used to solve the question"
      ],
      "metadata": {
        "id": "hX0WAcVp1whw"
      }
    },
    {
      "cell_type": "code",
      "source": [
        "class Agent:\n",
        "    \n",
        "    def __init__(self, env, heuristic):\n",
        "        self.frontier = PriorityQueue()\n",
        "        self.explored = dict()\n",
        "        self.start_state = env.get_start_state()\n",
        "        self.goal_state = env.get_goal_state()\n",
        "        self.env = env\n",
        "        self.goal_node = None\n",
        "        self.heuristic = heuristic\n",
        "    \n",
        "    def run(self):\n",
        "        init_node = Node(parent = None, state = self.start_state, pcost = 0, hcost=0)\n",
        "        # pushing init_node to frontier\n",
        "        self.frontier.push(init_node)\n",
        "        steps = 0\n",
        "\n",
        "        # Checks until the frontier queue is not empty\n",
        "        while not self.frontier.is_empty():\n",
        "\n",
        "            # Pops the node with the lowest code in queue ans assign it to curr-node \n",
        "            curr_node = self.frontier.pop()\n",
        "            \n",
        "            # Gets the next state for current node\n",
        "            next_states = self.env.get_next_states(curr_node.state)\n",
        "\n",
        "            #  if current node is already explored, skip it\n",
        "            if hash(curr_node) in self.explored:\n",
        "                continue\n",
        "\n",
        "            # Adding curr_node to explored set\n",
        "            self.explored[hash(curr_node)] = curr_node\n",
        "\n",
        "            # If goal state is reached \n",
        "            if self.env.reached_goal(curr_node.state):\n",
        "                \n",
        "                self.goal_node = curr_node\n",
        "                break\n",
        "            goal_state = self.env.get_goal_state()\n",
        "\n",
        "            l = []\n",
        "            for state in next_states:\n",
        "\n",
        "                hcost = self.heuristic(state, goal_state)\n",
        "                node = Node(parent=curr_node, state=state, pcost=curr_node.pcost+1, hcost=hcost)\n",
        "                self.frontier.push(node)\n",
        "            steps += 1\n",
        "        \n",
        "        \n",
        "        return steps, self.soln_depth()\n",
        "    \n",
        "    # Returns the number of nodes travelled\n",
        "    def soln_depth(self):\n",
        "        node = self.goal_node\n",
        "        count = 0\n",
        "        while node is not None:\n",
        "            node = node.parent\n",
        "            count+=1\n",
        "        \n",
        "        return count\n",
        "    \n",
        "    # Print nodes from starting node to goal node\n",
        "    def print_nodes(self):\n",
        "        \n",
        "        node = self.goal_node\n",
        "        l = []\n",
        "        while node is not None:\n",
        "            l.append(node)\n",
        "            node = node.parent\n",
        "\n",
        "        step = 1\n",
        "        for node in l[::-1]:\n",
        "            print(\"Step: \",step)\n",
        "            print(node)\n",
        "            step+=1\n",
        "    \n",
        "    # Returns memory used\n",
        "    def get_memory(self):\n",
        "        \n",
        "        mem = len(self.frontier)*56 + len(self.explored)*56\n",
        "        return mem"
      ],
      "metadata": {
        "id": "x8xsqznoOcMa"
      },
      "execution_count": 29,
      "outputs": []
    },
    {
      "cell_type": "markdown",
      "source": [
        "Heuristic 0\\\n",
        "This is a null heuristic, returns 0 for any state. \\\n",
        "Represents uniform cost search."
      ],
      "metadata": {
        "id": "kgwVqQmoAful"
      }
    },
    {
      "cell_type": "code",
      "source": [
        "def heuristic0(curr_state, goal_state):\n",
        "    return 0"
      ],
      "metadata": {
        "id": "GO9TcZzjOgF2"
      },
      "execution_count": 30,
      "outputs": []
    },
    {
      "cell_type": "markdown",
      "source": [
        "Heuristic 1\\\n",
        "This heuristic counts the number of misplaced tiles"
      ],
      "metadata": {
        "id": "2SAEHLEiAuFc"
      }
    },
    {
      "cell_type": "code",
      "source": [
        "def heuristic1(curr_state, goal_state):\n",
        "    \n",
        "    count = 0\n",
        "    for i in range(3):\n",
        "        for j in range(3):\n",
        "            if curr_state[i, j]!=goal_state[i,j]:\n",
        "                count+=1\n",
        "    \n",
        "    return count"
      ],
      "metadata": {
        "id": "yNsbTKmnOjKK"
      },
      "execution_count": 31,
      "outputs": []
    },
    {
      "cell_type": "markdown",
      "source": [
        "Heuristic 2\\\n",
        "This is the manhattan distance.\\\n",
        " It returns the sum of the horizontal and vertical distances of the all marble in current state from center."
      ],
      "metadata": {
        "id": "INaPqDdiA14Q"
      }
    },
    {
      "cell_type": "code",
      "source": [
        "def heuristic2(curr_state, goal_state):\n",
        "    \n",
        "    dist = 0\n",
        "\n",
        "    for i in range(3):\n",
        "        for j in range(3):\n",
        "            ele = curr_state[i, j]\n",
        "            goal_i, goal_j = np.where(goal_state==ele)\n",
        "            d = abs(goal_i[0] - i) + abs(goal_j[0] - j)\n",
        "            dist += d\n",
        "    \n",
        "    return dist"
      ],
      "metadata": {
        "id": "8tPc6b02OnBm"
      },
      "execution_count": 32,
      "outputs": []
    },
    {
      "cell_type": "code",
      "source": [
        "depth = 500\n",
        "goal_state = np.array([[1,2,3], [8,'_',4], [7,6,5]])\n",
        "env = Environment(depth, goal_state)\n",
        "print(\"Start State: \")\n",
        "print(env.get_start_state())\n",
        "print(\"Goal State: \")\n",
        "print(goal_state)"
      ],
      "metadata": {
        "colab": {
          "base_uri": "https://localhost:8080/"
        },
        "id": "4IPmTaFPOq7c",
        "outputId": "d79432b4-6397-4043-fa33-133237a43300"
      },
      "execution_count": 33,
      "outputs": [
        {
          "output_type": "stream",
          "name": "stdout",
          "text": [
            "Start State: \n",
            "[['_' '3' '6']\n",
            " ['1' '8' '5']\n",
            " ['4' '2' '7']]\n",
            "Goal State: \n",
            "[['1' '2' '3']\n",
            " ['8' '_' '4']\n",
            " ['7' '6' '5']]\n"
          ]
        }
      ]
    },
    {
      "cell_type": "code",
      "source": [
        "agent = Agent(env = env, heuristic = heuristic2)"
      ],
      "metadata": {
        "id": "fHv7SWAKOttS"
      },
      "execution_count": 34,
      "outputs": []
    },
    {
      "cell_type": "code",
      "source": [
        "agent.run()"
      ],
      "metadata": {
        "colab": {
          "base_uri": "https://localhost:8080/"
        },
        "id": "nMxL3_kiOwTa",
        "outputId": "f7c5a870-e098-4f6f-af18-bc5014a7d3ee"
      },
      "execution_count": 35,
      "outputs": [
        {
          "output_type": "execute_result",
          "data": {
            "text/plain": [
              "(762, 23)"
            ]
          },
          "metadata": {},
          "execution_count": 35
        }
      ]
    },
    {
      "cell_type": "code",
      "source": [
        "depths = np.arange(0,501,50)\n",
        "goal_state = np.array([[1,2,3], [8,'_',4], [7,6,5]])\n",
        "times_taken = {}\n",
        "mems = {}\n",
        "for depth in depths:\n",
        "    \n",
        "    time_taken = 0\n",
        "    mem = 0\n",
        "    for i in range(50):\n",
        "        env = Environment(depth=depth, goal_state=goal_state)\n",
        "        agent = Agent(env = env, heuristic = heuristic2)\n",
        "        start_time = time()\n",
        "        agent.run()\n",
        "        end_time = time()\n",
        "        time_taken+=end_time - start_time\n",
        "        mem+=agent.get_memory()\n",
        "    \n",
        "    time_taken/=50\n",
        "    mem = mem/50\n",
        "    times_taken[depth] = time_taken\n",
        "    mems[depth] = mem\n",
        "    print(depth, time_taken, mem)"
      ],
      "metadata": {
        "colab": {
          "base_uri": "https://localhost:8080/"
        },
        "id": "Oa39to_aOyRK",
        "outputId": "510f23c9-d7d8-429f-ed64-2201ad487335"
      },
      "execution_count": 36,
      "outputs": [
        {
          "output_type": "stream",
          "name": "stdout",
          "text": [
            "0 4.4002532958984376e-05 56.0\n",
            "50 0.08828277587890625 25945.92\n",
            "100 0.3768974447250366 70851.2\n",
            "150 0.27368505477905275 73069.92\n",
            "200 0.5049377107620239 95510.24\n",
            "250 0.49290042877197265 107280.32\n",
            "300 0.7130078077316284 124741.12\n",
            "350 0.5293329429626464 135605.12\n",
            "400 0.9476835918426514 144844.0\n",
            "450 0.5781193876266479 116832.8\n",
            "500 0.5433288621902466 124088.16\n"
          ]
        }
      ]
    }
  ]
}