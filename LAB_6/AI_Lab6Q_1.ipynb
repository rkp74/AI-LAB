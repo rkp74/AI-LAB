{
  "nbformat": 4,
  "nbformat_minor": 0,
  "metadata": {
    "colab": {
      "provenance": []
    },
    "kernelspec": {
      "name": "python3",
      "display_name": "Python 3"
    },
    "language_info": {
      "name": "python"
    }
  },
  "cells": [
    {
      "cell_type": "code",
      "execution_count": 1,
      "metadata": {
        "id": "fjiCa07rFqN7"
      },
      "outputs": [],
      "source": [
        "\n",
        "import math\n",
        "import re\n",
        "import numpy as np\n",
        "import sys\n",
        "from google.colab import drive"
      ]
    },
    {
      "cell_type": "code",
      "source": [
        "\n",
        "# Mount google drive\n",
        "drive.mount(\"/content/drive\")"
      ],
      "metadata": {
        "colab": {
          "base_uri": "https://localhost:8080/"
        },
        "id": "g_x_bYgDI1Ma",
        "outputId": "cbfe9aec-00e5-4bf9-c3d2-e0f6fdbb3202"
      },
      "execution_count": 2,
      "outputs": [
        {
          "output_type": "stream",
          "name": "stdout",
          "text": [
            "Mounted at /content/drive\n"
          ]
        }
      ]
    },
    {
      "cell_type": "markdown",
      "source": [
        "#Initialization:\n",
        "In this we do not have a given model. So we are assuming the A , B and pi"
      ],
      "metadata": {
        "id": "0mfM8T9LIu4W"
      }
    },
    {
      "cell_type": "code",
      "source": [
        "# number of states in the model\n",
        "N = 2\n",
        "\n",
        "# number of observation symbols\n",
        "M = 27\n",
        "\n",
        "# state transition probabilities\n",
        "A = np.array([[0.47468, 0.52532], [0.51656, 0.48344]])\n",
        "\n",
        "# observation probability matrix\n",
        "B = np.array([[0.03735, 0.03408, 0.03455, 0.03828, 0.03782, 0.03922, 0.03688, 0.03408, 0.03875, 0.04062, 0.03735, 0.03968, 0.03548, 0.03735, 0.04062, 0.03595, 0.03641, 0.03408, 0.04062, 0.03548, 0.03922, 0.04062, 0.03455, 0.03595, 0.03408, 0.03408, 0.03688], \n",
        "              [0.03909, 0.03537,  0.03537, 0.03909, 0.03583,  0.03630, 0.04048, 0.03537, 0.03816, 0.03909, 0.03490, 0.03723, 0.03537, 0.03909, 0.03397, 0.03397, 0.03816, 0.03676, 0.04048, 0.03443, 0.03537, 0.03955, 0.03816,  0.03723,  0.03769, 0.03955, 0.03397]])\n",
        "\n",
        "# initial state distribution\n",
        "pi = np.array([[0.51316, 0.48684]])\n",
        "\n",
        "# no. of iterations\n",
        "max_iters = 100\n",
        "\n",
        "old_log_prob = -math.inf"
      ],
      "metadata": {
        "id": "orjPVlfZJ6K8"
      },
      "execution_count": 3,
      "outputs": []
    },
    {
      "cell_type": "markdown",
      "source": [
        "#Observation Sequence"
      ],
      "metadata": {
        "id": "c9mcmMw3KBgF"
      }
    },
    {
      "cell_type": "code",
      "source": [
        "O = np.zeros(50000, dtype=int)\n",
        "\n",
        "file = \"/content/drive/My Drive/book-war-and-peace.txt\"\n",
        "\n",
        "f = open(file, \"r\")\n",
        "content = f.read()\n",
        "f.close()\n",
        "\n",
        "# Remove the punctuations\n",
        "content = re.sub('[^a-zA-Z]', \" \", content)\n",
        "content = \" \".join(content.split()).lower()[:50000]\n",
        "print(content)\n",
        "\n",
        "# map the letters and the space to the respective indexes\n",
        "dictionary = {}\n",
        "for i in range(26):\n",
        "    # ASCII value for the each character in the alphabet\n",
        "    dictionary[chr(i+97)] = i\n",
        "dictionary[\" \"] = 26\n",
        "\n",
        "# adding the values to the observation list/sequence\n",
        "for i in range(len(content)):\n",
        "    O[i] = dictionary[content[i]]\n",
        "print(O)\n",
        "\n",
        "# length of the observation sequence\n",
        "T = len(O)\n",
        "print(T)"
      ],
      "metadata": {
        "colab": {
          "base_uri": "https://localhost:8080/"
        },
        "id": "7hzGEE86KEAv",
        "outputId": "7ae930eb-fb0e-4034-bb1f-ae6febb10b84"
      },
      "execution_count": 5,
      "outputs": [
        {
          "output_type": "stream",
          "name": "stdout",
          "text": [
            "chapter i well prince so genoa and lucca are now just family estates of the buonapartes but i warn you if you don t tell me that this means war if you still try to defend the infamies and horrors perpetrated by that antichrist i really believe he is antichrist i will have nothing more to do with you and you are no longer my friend no longer my faithful slave as you call yourself but how do you do i see i have frightened you sit down and tell me all the news it was in july and the speaker was the well known anna pavlovna scherer maid of honor and favorite of the empress marya fedorovna with these words she greeted prince vasili kuragin a man of high rank and importance who was the first to arrive at her reception anna pavlovna had had a cough for some days she was as she said suffering from la grippe grippe being then a new word in st petersburg used only by the elite all her invitations without exception written in french and delivered by a scarlet liveried footman that morning ran as follows if you have nothing better to do count or prince and if the prospect of spending an evening with a poor invalid is not too terrible i shall be very charmed to see you tonight between and annette scherer heavens what a virulent attack replied the prince not in the least disconcerted by this reception he had just entered wearing an embroidered court uniform knee breeches and shoes and had stars on his breast and a serene expression on his flat face he spoke in that refined french in which our grandfathers not only spoke but thought and with the gentle patronizing intonation natural to a man of importance who had grown old in society and at court he went up to anna pavlovna kissed her hand presenting to her his bald scented and shining head and complacently seated himself on the sofa first of all dear friend tell me how you are set your friend s mind at rest said he without altering his tone beneath the politeness and affected sympathy of which indifference and even irony could be discerned can one be well while suffering morally can one be calm in times like these if one has any feeling said anna pavlovna you are staying the whole evening i hope and the fete at the english ambassador s today is wednesday i must put in an appearance there said the prince my daughter is coming for me to take me there i thought today s fete had been canceled i confess all these festivities and fireworks are becoming wearisome if they had known that you wished it the entertainment would have been put off said the prince who like a wound up clock by force of habit said things he did not even wish to be believed don t tease well and what has been decided about novosiltsev s dispatch you know everything what can one say about it replied the prince in a cold listless tone what has been decided they have decided that buonaparte has burnt his boats and i believe that we are ready to burn ours prince vasili always spoke languidly like an actor repeating a stale part anna pavlovna scherer on the contrary despite her forty years overflowed with animation and impulsiveness to be an enthusiast had become her social vocation and sometimes even when she did not feel like it she became enthusiastic in order not to disappoint the expectations of those who knew her the subdued smile which though it did not suit her faded features always played round her lips expressed as in a spoiled child a continual consciousness of her charming defect which she neither wished nor could nor considered it necessary to correct in the midst of a conversation on political matters anna pavlovna burst out oh don t speak to me of austria perhaps i don t understand things but austria never has wished and does not wish for war she is betraying us russia alone must save europe our gracious sovereign recognizes his high vocation and will be true to it that is the one thing i have faith in our good and wonderful sovereign has to perform the noblest role on earth and he is so virtuous and noble that god will not forsake him he will fulfill his vocation and crush the hydra of revolution which has become more terrible than ever in the person of this murderer and villain we alone must avenge the blood of the just one whom i ask you can we rely on england with her commercial spirit will not and cannot understand the emperor alexander s loftiness of soul she has refused to evacuate malta she wanted to find and still seeks some secret motive in our actions what answer did novosiltsev get none the english have not understood and cannot understand the self abnegation of our emperor who wants nothing for himself but only desires the good of mankind and what have they promised nothing and what little they have promised they will not perform prussia has always declared that buonaparte is invincible and that all europe is powerless before him and i don t believe a word that hardenburg says or haugwitz either this famous prussian neutrality is just a trap i have faith only in god and the lofty destiny of our adored monarch he will save europe she suddenly paused smiling at her own impetuosity i think said the prince with a smile that if you had been sent instead of our dear wintzingerode you would have captured the king of prussia s consent by assault you are so eloquent will you give me a cup of tea in a moment a propos she added becoming calm again i am expecting two very interesting men tonight le vicomte de mortemart who is connected with the montmorencys through the rohans one of the best french families he is one of the genuine emigres the good ones and also the abbe morio do you know that profound thinker he has been received by the emperor had you heard i shall be delighted to meet them said the prince but tell me he added with studied carelessness as if it had only just occurred to him though the question he was about to ask was the chief motive of his visit is it true that the dowager empress wants baron funke to be appointed first secretary at vienna the baron by all accounts is a poor creature prince vasili wished to obtain this post for his son but others were trying through the dowager empress marya fedorovna to secure it for the baron anna pavlovna almost closed her eyes to indicate that neither she nor anyone else had a right to criticize what the empress desired or was pleased with baron funke has been recommended to the dowager empress by her sister was all she said in a dry and mournful tone as she named the empress anna pavlovna s face suddenly assumed an expression of profound and sincere devotion and respect mingled with sadness and this occurred every time she mentioned her illustrious patroness she added that her majesty had deigned to show baron funke beaucoup d estime and again her face clouded over with sadness the prince was silent and looked indifferent but with the womanly and courtierlike quickness and tact habitual to her anna pavlovna wished both to rebuke him for daring to speak as he had done of a man recommended to the empress and at the same time to console him so she said now about your family do you know that since your daughter came out everyone has been enraptured by her they say she is amazingly beautiful the prince bowed to signify his respect and gratitude i often think she continued after a short pause drawing nearer to the prince and smiling amiably at him as if to show that political and social topics were ended and the time had come for intimate conversation i often think how unfairly sometimes the joys of life are distributed why has fate given you two such splendid children i don t speak of anatole your youngest i don t like him she added in a tone admitting of no rejoinder and raising her eyebrows two such charming children and really you appreciate them less than anyone and so you don t deserve to have them and she smiled her ecstatic smile i can t help it said the prince lavater would have said i lack the bump of paternity don t joke i mean to have a serious talk with you do you know i am dissatisfied with your younger son between ourselves and her face assumed its melancholy expression he was mentioned at her majesty s and you were pitied the prince answered nothing but she looked at him significantly awaiting a reply he frowned what would you have me do he said at last you know i did all a father could for their education and they have both turned out fools hippolyte is at least a quiet fool but anatole is an active one that is the only difference between them he said this smiling in a way more natural and animated than usual so that the wrinkles round his mouth very clearly revealed something unexpectedly coarse and unpleasant and why are children born to such men as you if you were not a father there would be nothing i could reproach you with said anna pavlovna looking up pensively i am your faithful slave and to you alone i can confess that my children are the bane of my life it is the cross i have to bear that is how i explain it to myself it can t be helped he said no more but expressed his resignation to cruel fate by a gesture anna pavlovna meditated have you never thought of marrying your prodigal son anatole she asked they say old maids have a mania for matchmaking and though i don t feel that weakness in myself as yet i know a little person who is very unhappy with her father she is a relation of yours princess mary bolkonskaya prince vasili did not reply though with the quickness of memory and perception befitting a man of the world he indicated by a movement of the head that he was considering this information do you know he said at last evidently unable to check the sad current of his thoughts that anatole is costing me forty thousand rubles a year and he went on after a pause what will it be in five years if he goes on like this presently he added that s what we fathers have to put up with is this princess of yours rich her father is very rich and stingy he lives in the country he is the well known prince bolkonski who had to retire from the army under the late emperor and was nicknamed the king of prussia he is very clever but eccentric and a bore the poor girl is very unhappy she has a brother i think you know him he married lise meinen lately he is an aide de camp of kutuzov s and will be here tonight listen dear annette said the prince suddenly taking anna pavlovna s hand and for some reason drawing it downwards arrange that affair for me and i shall always be your most devoted slave slafe with an f as a village elder of mine writes in his reports she is rich and of good family and that s all i want and with the familiarity and easy grace peculiar to him he raised the maid of honor s hand to his lips kissed it and swung it to and fro as he lay back in his armchair looking in another direction attendez said anna pavlovna reflecting i ll speak to lise young bolkonski s wife this very evening and perhaps the thing can be arranged it shall be on your family s behalf that i ll start my apprenticeship as old maid chapter ii anna pavlovna s drawing room was gradually filling the highest petersburg society was assembled there people differing widely in age and character but alike in the social circle to which they belonged prince vasili s daughter the beautiful helene came to take her father to the ambassador s entertainment she wore a ball dress and her badge as maid of honor the youthful little princess bolkonskaya known as la femme la plus seduisante de petersbourg was also there she had been married during the previous winter and being pregnant did not go to any large gatherings but only to small receptions prince vasili s son hippolyte had come with mortemart whom he introduced the abbe morio and many others had also come the most fascinating woman in petersburg to each new arrival anna pavlovna said you have not yet seen my aunt or you do not know my aunt and very gravely conducted him or her to a little old lady wearing large bows of ribbon in her cap who had come sailing in from another room as soon as the guests began to arrive and slowly turning her eyes from the visitor to her aunt anna pavlovna mentioned each one s name and then left them each visitor performed the ceremony of greeting this old aunt whom not one of them knew not one of them wanted to know and not one of them cared about anna pavlovna observed these greetings with mournful and solemn interest and silent approval the aunt spoke to each of them in the same words about their health and her own and the health of her majesty who thank god was better today and each visitor though politeness prevented his showing impatience left the old woman with a sense of relief at having performed a vexatious duty and did not return to her the whole evening the young princess bolkonskaya had brought some work in a gold embroidered velvet bag her pretty little upper lip on which a delicate dark down was just perceptible was too short for her teeth but it lifted all the more sweetly and was especially charming when she occasionally drew it down to meet the lower lip as is always the case with a thoroughly attractive woman her defect the shortness of her upper lip and her half open mouth seemed to be her own special and peculiar form of beauty everyone brightened at the sight of this pretty young woman so soon to become a mother so full of life and health and carrying her burden so lightly old men and dull dispirited young ones who looked at her after being in her company and talking to her a little while felt as if they too were becoming like her full of life and health all who talked to her and at each word saw her bright smile and the constant gleam of her white teeth thought that they were in a specially amiable mood that day the little princess went round the table with quick short swaying steps her workbag on her arm and gaily spreading out her dress sat down on a sofa near the silver samovar as if all she was doing was a pleasure to herself and to all around her i have brought my work said she in french displaying her bag and addressing all present mind annette i hope you have not played a wicked trick on me she added turning to her hostess you wrote that it was to be quite a small reception and just see how badly i am dressed and she spread out her arms to show her short waisted lace trimmed dainty gray dress girdled with a broad ribbon just below the breast soyez tranquille lise you will always be prettier than anyone else replied anna pavlovna you know said the princess in the same tone of voice and still in french turning to a general my husband is deserting me he is going to get himself killed tell me what this wretched war is for she added addressing prince vasili and without waiting for an answer she turned to speak to his daughter the beautiful helene what a delightful woman this little princess is said prince vasili to anna pavlovna one of the next arrivals was a stout heavily built young man with close cropped hair spectacles the light colored breeches fashionable at that time a very high ruffle and a brown dress coat this stout young man was an illegitimate son of count bezukhov a well known grandee of catherine s time who now lay dying in moscow the young man had not yet entered either the military or civil service as he had only just returned from abroad where he had been educated and this was his first appearance in society anna pavlovna greeted him with the nod she accorded to the lowest hierarchy in her drawing room but in spite of this lowest grade greeting a look of anxiety and fear as at the sight of something too large and unsuited to the place came over her face when she saw pierre enter though he was certainly rather bigger than the other men in the room her anxiety could only have reference to the clever though shy but observant and natural expression which distinguished him from everyone else in that drawing room it is very good of you monsieur pierre to come and visit a poor invalid said anna pavlovna exchanging an alarmed glance with her aunt as she conducted him to her pierre murmured something unintelligible and continued to look round as if in search of something on his way to the aunt he bowed to the little princess with a pleased smile as to an intimate acquaintance anna pavlovna s alarm was justified for pierre turned away from the aunt without waiting to hear her speech about her majesty s health anna pavlovna in dismay detained him with the words do you know the abbe morio he is a most interesting man yes i have heard of his scheme for perpetual peace and it is very interesting but hardly feasible you think so rejoined anna pavlovna in order to say something and get away to attend to her duties as hostess but pierre now committed a reverse act of impoliteness first he had left a lady before she had finished speaking to him and now he continued to speak to another who wished to get away with his head bent and his big feet spread apart he began explaining his reasons for thinking the abbe s plan chimerical we will talk of it later said anna pavlovna with a smile and having got rid of this young man who did not know how to behave she resumed her duties as hostess and continued to listen and watch ready to help at any point where the conversation might happen to flag as the foreman of a spinning mill when he has set the hands to work goes round and notices here a spindle that has stopped or there one that creaks or makes more noise than it should and hastens to check the machine or set it in proper motion so anna pavlovna moved about her drawing room approaching now a silent now a too noisy group and by a word or slight rearrangement kept the conversational machine in steady proper and regular motion but amid these cares her anxiety about pierre was evident she kept an anxious watch on him when he approached the group round mortemart to listen to what was being said there and again when he passed to another group whose center was the abbe pierre had been educated abroad and this reception at anna pavlovna s was the first he had attended in russia he knew that all the intellectual lights of petersburg were gathered there and like a child in a toyshop did not know which way to look afraid of missing any clever conversation that was to be heard seeing the self confident and refined expression on the faces of those present he was always expecting to hear something very profound at last he came up to morio here the conversation seemed interesting and he stood waiting for an opportunity to express his own views as young people are fond of doing chapter iii anna pavlovna s reception was in full swing the spindles hummed steadily and ceaselessly on all sides with the exception of the aunt beside whom sat only one elderly lady who with her thin careworn face was rather out of place in this brilliant society the whole company had settled into three groups one chiefly masculine had formed round the abbe another of young people was grouped round the beautiful princess helene prince vasili s daughter and the little princess bolkonskaya very pretty and rosy though rather too plump for her age the third group was gathered round mortemart and anna pavlovna the vicomte was a nice looking young man with soft features and polished manners who evidently considered himself a celebrity but out of politeness modestly placed himself at the disposal of the circle in which he found himself anna pavlovna was obviously serving him up as a treat to her guests as a clever maitre d hotel serves up as a specially choice delicacy a piece of meat that no one who had seen it in the kitchen would have cared to eat so anna pavlovna served up to her guests first the vicomte and then the abbe as peculiarly choice morsels the group about mortemart immediately began discussing the murder of the duc d enghien the vicomte said that the duc d enghien had perished by his own magnanimity and that there were particular reasons for buonaparte s hatred of him ah yes do tell us all about it vicomte said anna pavlovna with a pleasant feeling that there was something a la louis xv in the sound of that sentence contez nous cela vicomte the vicomte bowed and smiled courteously in token of his willingness to comply anna pavlovna arranged a group round him inviting everyone to listen to his tale the vicomte knew the duc personally whispered anna pavlovna to one of the guests the vicomte is a wonderful raconteur said she to another how evidently he belongs to the best society said she to a third and the vicomte was served up to the company in the choicest and most advantageous style like a well garnished joint of roast beef on a hot dish the vicomte wished to begin his story and gave a subtle smile come over here helene dear said anna pavlovna to the beautiful young princess who was sitting some way off the center of another group the princess smiled she rose with the same unchanging smile with which she had first entered the room the smile of a perfectly beautiful woman with a slight rustle of her white dress trimmed with moss and ivy with a gleam of white shoulders glossy hair and sparkling diamonds she passed between the men who made way for her not looking at any of them but smiling on all as if graciously allowing each the privilege of admiring her beautiful figure and shapely shoulders back and bosom which in the fashion of those days were very much exposed and she seemed to bring the glamour of a ballroom with her as she moved toward anna pavlovna helene was so lovely that not only did she not show any trace of coquetry but on the contrary she even appeared shy of her unquestionable and all too victorious beauty she seemed to wish but to be unable to diminish its effect how lovely said everyone who saw her and the vicomte lifted his shoulders and dropped his eyes as if startled by something extraordinary when she took her seat opposite and beamed upon him also with her unchanging smile madame i doubt my ability before such an audience said he smilingly inclining his head the princess rested her bare round arm on a little table and considered a reply unnecessary she smilingly waited all the time the story was being told she sat upright glancing now at her beautiful round arm altered in shape by its pressure on the table now at her still more beautiful bosom on which she readjusted a diamond necklace from time to time she smoothed the folds of her dress and whenever the story produced an effect she glanced at anna pavlovna at once adopted just the expression she saw on the maid of honor s face and again relapsed into her radiant smile the little princess had also left the tea table and followed helene wait a moment i ll get my work now then what are you thinking of she went on turning to prince hippolyte fetch me my workbag there was a general movement as the princess smiling and talking merrily to everyone at once sat down and gaily arranged herself in her seat now i am all right she said and asking the vicomte to begin she took up her work prince hippolyte having brought the workbag joined the circle and moving a chair close to hers seated himself beside her le charmant hippolyte was surprising by his extraordinary resemblance to his beautiful sister but yet more by the fact that in spite of this resemblance he was exceedingly ugly his features were like his sister s but while in her case everything was lit up by a joyous self satisfied youthful and constant smile of animation and by the wonderful classic beauty of her figure his face on the contrary was dulled by imbecility and a constant expression of sullen self confidence while his body was thin and weak his eyes nose and mouth all seemed puckered into a vacant wearied grimace and his arms and legs always fell into unnatural positions it s not going to be a ghost story said he sitting down beside the princess and hastily adjusting his lorgnette as if without this instrument he could not begin to speak why no my dear fellow said the astonished narrator shrugging his shoulders because i hate ghost stories said prince hippolyte in a tone which showed that he only understood the meaning of his words after he had uttered them he spoke with such self confidence that his hearers could not be sure whether what he said was very witty or very stupid he was dressed in a dark green dress coat knee breeches of the color of cuisse de nymphe effrayee as he called it shoes and silk stockings the vicomte told his tale very neatly it was an anecdote then current to the effect that the duc d enghien had gone secretly to paris to visit mademoiselle george that at her house he came upon bonaparte who also enjoyed the famous actress favors and that in his presence napoleon happened to fall into one of the fainting fits to which he was subject and was thus at the duc s mercy the latter spared him and this magnanimity bonaparte subsequently repaid by death the story was very pretty and interesting especially at the point where the rivals suddenly recognized one another and the ladies looked agitated charming said anna pavlovna with an inquiring glance at the little princess charming whispered the little princess sticking the needle into her work as if to testify that the interest and fascination of the story prevented her from going on with it the vicomte appreciated this silent praise and smiling gratefully prepared to continue but just then anna pavlovna who had kept a watchful eye on the young man who so alarmed her noticed that he was talking too loudly and vehemently with the abbe so she hurried to the rescue pierre had managed to start a conversation with the abbe about the balance of power and the latter evidently interested by the young man s simple minded eagerness was explaining his pet theory both were talking and listening too eagerly and too naturally which was why anna pavlovna disapproved the means are the balance of power in europe and the rights of the people the abbe was saying it is only necessary for one powerful nation like russia barbaric as she is said to be to place herself disinterestedly at the head of an alliance having for its object the maintenance of the balance of power of europe and it would save the world but how are you to get that balance pierre was beginning at that moment anna pavlovna came up and looking severely at pierre asked the italian how he stood russian climate the italian s face instantly changed and assumed an offensively affected sugary expression evidently habitual to him when conversing with women i am so enchanted by the brilliancy of the wit and culture of the society more especially of the feminine society in which i have had the honor of being received that i have not yet had time to think of the climate said he not letting the abbe and pierre escape anna pavlovna the more conveniently to keep them under observation brought them into the larger circle chapter iv just then another visitor entered the drawing room prince andrew bolkonski the little princess husband he was a very handsome young man of medium height with firm clearcut features everything about him from his weary bored expression to his quiet measured step offered a most striking contrast to his quiet little wife it was evident that he not only knew everyone in the drawing room but had found them to be so tiresome that it wearied him to look at or listen to them and among all these faces that he found so tedious none seemed to bore him so much as that of his pretty wife he turned away from her with a grimace that distorted his handsome face kissed anna pavlovna s hand and screwing up his eyes scanned the whole company you are off to the war prince said anna pavlovna general kutuzov said bolkonski speaking french and stressing the last syllable of the general s name like a frenchman has been pleased to take me as an aide de camp and lise your wife she will go to the country are you not ashamed to deprive us of your charming wife andre said his wife addressing her husband in the same coquettish manner in which she spoke to other men the vicomte has been telling us such a tale about mademoiselle george and buonaparte prince andrew screwed up his eyes and turned away pierre who from the moment prince andrew entered the room had watched him with glad affectionate eyes now came up and took his arm before he looked round prince andrew frowned again expressing his annoyance with whoever was touching his arm but when he saw pierre s beaming face he gave him an unexpectedly kind and pleasant smile there now so you too are in the great world said he to pierre i knew you would be here replied pierre i will come to supper with you may i he added in a low voice so as not to disturb the vicomte who was continuing his story no impossible said prince andrew laughing and pressing pierre s hand to show that there was no need to ask the question he wished to say something more but at that moment prince vasili and his daughter got up to go and the two young men rose to let them pass you must excuse me dear vicomte said prince vasili to the frenchman holding him down by the sleeve in a friendly way to prevent his rising this unfortunate fete at the ambassador s deprives me of a pleasure and obliges me to interrupt you i am very sorry to leave your enchanting party said he turning to anna pavlovna his daughter princess helene passed between the chairs lightly holding up the folds of her dress and the smile shone still more radiantly on her beautiful face pierre gazed at her with rapturous almost frightened eyes as she passed him very lovely said prince andrew very said pierre in passing prince vasili seized pierre s hand and said to anna pavlovna educate this bear for me he has been staying with me a whole month and this is the first time i have seen him in society nothing is so necessary for a young man as the society of clever women anna pavlovna smiled and promised to take pierre in hand she knew his father to be a connection of prince vasili s the elderly lady who had been sitting with the old aunt rose hurriedly and overtook prince vasili in the anteroom all the affectation of interest she had assumed had left her kindly and tear worn face and it now expressed only anxiety and fear how about my son boris prince said she hurrying after him into the anteroom i can t remain any longer in petersburg tell me what news i may take back to my poor boy although prince vasili listened reluctantly and not very politely to the elderly lady even betraying some impatience she gave him an ingratiating and appealing smile and took his hand that he might not go away what would it cost you to say a word to the emperor and then he would be transferred to the guards at once said she believe me princess i am ready to do all i can answered prince vasili but it is difficult for me to ask the emperor i should advise you to appeal to rumyantsev through prince golitsyn that would be the best way the elderly lady was a princess drubetskaya belonging to one of the best families in russia but she was poor and having long been out of society had lost her former influential connections she had now come to petersburg to procure an appointment in the guards for her only son it was in fact solely to meet prince vasili that she had obtained an invitation to anna pavlovna s reception and had sat listening to the vicomte s story prince vasili s words frightened her an embittered look clouded her once handsome face but only for a moment then she smiled again and clutched prince vasili s arm more tightly listen to me prince said she i have never yet asked you for anything and i never will again nor have i ever reminded you of my father s friendship for you but now i entreat you for god s sake to do this for my son and i shall always regard you as a benefactor she added hurriedly no don t be angry but promise i have asked golitsyn and he has refused be the kindhearted man you always were she said trying to smile though tears were in her eyes papa we shall be late said princess helene turning her beautiful head and looking over her classically molded shoulder as she stood waiting by the door influence in society however is a capital which has to be economized if it is to last prince vasili knew this and having once realized that if he asked on behalf of all who begged of him he would soon be unable to ask for himself he became chary of using his influence but in princess drubetskaya s case he felt after her second appeal something like qualms of conscience she had reminded him of what was quite true he had been indebted to her father for the first steps in his career moreover he could see by her manners that she was one of those women mostly mothers who having once made up their minds will not rest until they have gained their end and are prepared if necessary to go on insisting day after day and hour after hour and even to make scenes this last consideration moved him my dear anna mikhaylovna said he with his usual familiarity and weariness of tone it is almost impossible for me to do what you ask but to prove my devotion to you and how i respect your father s memory i will do the impossible your son shall be transferred to the guards here is my hand on it are you satisfied my dear benefactor this is what i expected from you i knew your kindness he turned to go wait just a word when he has been transferred to the guards she faltered you are on good terms with michael ilarionovich kutuzov recommend boris to him as adjutant then i shall be at rest and then prince vasili smiled no i won t promise that you don t know how kutuzov is pestered since his appointment as commander in chief he told me himself that all the moscow ladies have conspired to give him all their sons as adjutants no but do promise i won t let you go my dear benefactor papa said his beautiful daughter in the same tone as before we shall be late well au revoir good bye you hear her then tomorrow you will speak to the emperor certainly but about kutuzov i don t promise do promise do promise vasili cried anna mikhaylovna as he went with the smile of a coquettish girl which at one time probably came naturally to her but was now very ill suited to her careworn face apparently she had forgotten her age and by force of habit employed all the old feminine arts but as soon as the prince had gone her face resumed its former cold artificial expression she returned to the group where the vicomte was still talking and again pretended to listen while waiting till it would be time to leave her task was accomplished chapter v and what do you think of this latest comedy the coronation at milan asked anna pavlovna and of the comedy of the people of genoa and lucca laying their petitions before monsieur buonaparte and monsieur buonaparte sitting on a throne and granting the petitions of the nations adorable it is enough to make one s head whirl it is as if the whole world had gone crazy prince andrew looked anna pavlovna straight in the face with a sarcastic smile dieu me la donne gare a qui la touche they say he was very fine when he said that he remarked repeating the words in italian dio mi l ha dato guai a chi la tocchi god has given it to me let him who touches it beware i hope this will prove the last drop that will make the glass run over anna pavlovna continued the sovereigns will not be able to endure this man who is a menace to everything the sovereigns i do not speak of russia said the vicomte polite but hopeless the sovereigns madame what have they done for louis xvii for the queen or for madame elizabeth nothing and he became more animated and believe me they are reaping the reward of their betrayal of the bourbon cause the sovereigns why they are sending ambassadors to compliment the usurper and sighing disdainfully he again changed his position prince hippolyte who had been gazing at the vicomte for some time through his lorgnette suddenly turned completely round toward the little princess and having asked for a needle began tracing the conde coat of arms on the table he explained this to her with as much gravity as if she had asked him to do it baton de gueules engrele de gueules d azur maison conde said he the princess listened smiling if buonaparte remains on the throne of france a year longer the vicomte continued with the air of a man who in a matter with which he is better acquainted than anyone else does not listen to others but follows the current of his own thoughts things will have gone too far by intrigues violence exile and executions french society i mean good french society will have been forever destroyed and then he shrugged his shoulders and spread out his hands pierre wished to make a remark for the conversation interested him but anna pavlovna who had him under observation interrupted the emperor alexander said she with the melancholy which always accompanied any reference of hers to the imperial family has declared that he will leave it to the french people themselves to choose their own form of government and i believe that once free from the usurper the whole nation will certainly throw itself into the arms of its rightful king she concluded trying to be amiable to the royalist emigrant that is doubtful said prince andrew monsieur le vicomte quite rightly supposes that matters have already gone too far i think it will be difficult to return to the old regime from what i have heard said pierre blushing and breaking into the conversation almost all the aristocracy has already gone over to bonaparte s side it is the buonapartists who say that replied the vicomte without looking at pierre at the present time it is difficult to know the real state of french public opinion bonaparte has said so remarked prince andrew with a sarcastic smile it was evident that he did not like the vicomte and was aiming his remarks at him though without looking at him i showed them the path to glory but they did not follow it prince andrew continued after a short silence again quoting napoleon s words i opened my antechambers and they crowded in i do not know how far he was justified in saying so not in the least replied the vicomte after the murder of the duc even the most partial ceased to regard him as a hero if to some people he went on turning to anna pavlovna he ever was a hero after the murder of the duc there was one martyr more in heaven and one hero less on earth before anna pavlovna and the others had time to smile their appreciation of the vicomte s epigram pierre again broke into the conversation and though anna pavlovna felt sure he would say something inappropriate she was unable to stop him the execution of the duc d enghien declared monsieur pierre was a political necessity and it seems to me that napoleon showed greatness of soul by not fearing to take on himself the whole responsibility of that deed dieu mon dieu muttered anna pavlovna in a terrified whisper what monsieur pierre do you consider that assassination shows greatness of soul said the little princess smiling and drawing her work nearer to her oh oh exclaimed several voices capital said prince hippolyte in english and began slapping his knee with the palm of his hand the vicomte merely shrugged his shoulders pierre looked solemnly at his audience over his spectacles and continued i say so he continued desperately because the bourbons fled from the revolution leaving the people to anarchy and napoleon alone understood the revolution and quelled it and so for the general good he could not stop short for the sake of one man s life won t you come over to the other table suggested anna pavlovna but pierre continued his speech without heeding her no cried he becoming more and more eager napoleon is great because he rose superior to the revolution suppressed its abuses preserved all that was good in it equality of citizenship and freedom of speech and of the press and only for that reason did he obtain power yes if having obtained power without availing himself of it to commit murder he had restored it to the rightful king i should have called him a great man remarked the vicomte he could not do that the people only gave him power that he might rid them of the bourbons and because they saw that he was a great man the revolution was a grand thing continued monsieur pierre betraying by this desperate and provocative proposition his extreme youth and his wish to express all that was in his mind what revolution and regicide a grand thing well after that but won t you come to this other table repeated anna pavlovna rousseau s contrat social said the vicomte with a tolerant smile i am not speaking of regicide i am speaking about ideas yes ideas of robbery murder and regicide again interjected an ironical voice those were extremes no doubt but they are not what is most important what is important are the rights of man emancipation from prejudices and equality of citizenship and all these ideas napoleon has retained in full force liberty and equality said the vicomte contemptuously as if at last deciding seriously to prove to this youth how foolish his words were high sounding words which have long been discredited who does not love liberty and equality even our saviour preached liberty and equality have people since the revolution become happier on the contrary we wanted liberty but buonaparte has destroyed it prince andrew kept looking with an amused smile from pierre to the vicomte and from the vicomte to their hostess in the first moment of pierre s outburst anna pavlovna despite her social experience was horror struck but when she saw that pierre s sacrilegious words had not exasperated the vicomte and had convinced herself that it was impossible to stop him she rallied her forces and joined the vicomte in a vigorous attack on the orator but my dear monsieur pierre said she how do you explain the fact of a great man executing a duc or even an ordinary man who is innocent and untried i should like said the vicomte to ask how monsieur explains the th brumaire was not that an imposture it was a swindle and not at all like the conduct of a great man and the prisoners he killed in africa that was horrible said the little princess shrugging her shoulders he s a low fellow say what you will remarked prince hippolyte pierre not knowing whom to answer looked at them all and smiled his smile was unlike the half smile of other people when he smiled his grave even rather gloomy look was instantaneously replaced by another a childlike kindly even rather silly look which seemed to ask forgiveness the vicomte who was meeting him for the first time saw clearly that this young jacobin was not so terrible as his words suggested all were silent how do you expect him to answer you all at once said prince andrew besides in the actions of a statesman one has to distinguish between his acts as a private person as a general and as an emperor so it seems to me yes yes of course pierre chimed in pleased at the arrival of this reinforcement one must admit continued prince andrew that napoleon as a man was great on the bridge of arcola and in the hospital at jaffa where he gave his hand to the plague stricken but but there are other acts which it is difficult to justify prince andrew who had evidently wished to tone down the awkwardness of pierre s remarks rose and made a sign to his wife that it was time to go suddenly prince hippolyte started up making signs to everyone to attend and asking them all to be seated began i was told a charming moscow story today and must treat you to it excuse me vicomte i must tell it in russian or the point will be lost and prince hippolyte began to tell his story in such russian as a frenchman would speak after spending about a year in russia everyone waited so emphatically and eagerly did he demand their attention to his story there is in moscow a lady une dame and she is very stingy she must have two footmen behind her carriage and very big ones that was her taste and she had a lady s maid also big she said here prince hippolyte paused evidently collecting his ideas with difficulty she said oh yes she said girl to the maid put on a livery get up behind the carriage and come with me while i make some calls here prince hippolyte spluttered and burst out laughing long before his audience which produced an effect unfavorable to the narrator several persons among them the elderly lady and anna pavlovna did however smile she went suddenly there was a great wind the girl lost her hat and her long hair came down here he could contain himself no longer and went on between gasps of laughter and the whole world knew and so the anecdote ended though it was unintelligible why he had told it or why it had to be told in russian still anna pavlovna and the others appreciated prince hippolyte s social tact in so agreeably ending pierre s unpleasant and unamiable outburst after the anecdote the conversation broke up into insignificant small talk about the last and next balls about theatricals and who would meet whom and when and where chapter vi having thanked anna pavlovna for her charming soiree the guests began to take their leave pierre was ungainly stout about the average height broad with huge red hands he did not know as the saying is how to enter a drawing room and still less how to leave one that is how to say something particularly agreeable before going away besides this he was absent minded when he rose to go he took up instead of his own the general s three cornered hat and held it pulling at the plume till the general asked him to restore it all his absent mindedness and inability to enter a room and converse in it was however redeemed by his kindly simple and modest expression anna pavlovna turned toward him and with a christian mildness that expressed forgiveness of his indiscretion nodded and said i hope to see you again but i also hope you will change your opinions my dear monsieur pierre when she said this he did not reply and only bowed but again everybody saw his smile which said nothing unless perhaps opinions are opinions but you see what a capital good natured fellow i am and everyone including anna pavlovna felt this prince andrew had gone out into the hall and turning his shoulders to the footman who was helping him on with his cloak listened indifferently to his wife s chatter with prince hippolyte who had also come into the hall prince hippolyte stood close to the pretty pregnant princess and stared fixedly at her through his eyeglass go in annette or you will catch cold said the little princess taking leave of anna pavlovna it is settled she added in a low voice anna pavlovna had already managed to speak to lise about the match she contemplated between anatole and the little princess sister in law i rely on you my dear said anna pavlovna also in a low tone write to her and let me know how her father looks at the matter au revoir and she left the hall prince hippolyte approached the little princess and bending his face close to her began to whisper something two footmen the princess and his own stood holding a shawl and a cloak waiting for the conversation to finish they listened to the french sentences which to them were meaningless with an air of understanding but not wishing to appear to do so the princess as usual spoke smilingly and listened with a laugh i am very glad i did not go to the ambassador s said prince hippolyte so dull it has been a delightful evening has it not delightful they say the ball will be very good replied the princess drawing up her downy little lip all the pretty women in society will be there not all for you will not be there not all said prince hippolyte smiling joyfully and snatching the shawl from the footman whom he even pushed aside he began wrapping it round the princess either from awkwardness or intentionally no one could have said which after the shawl had been adjusted he kept his arm around her for a long time as though embracing her still smiling she gracefully moved away turning and glancing at her husband prince andrew s eyes were closed so weary and sleepy did he seem are you ready he asked his wife looking past her prince hippolyte hurriedly put on his cloak which in the latest fashion reached to his very heels and stumbling in it ran out into the porch following the princess whom a footman was helping into the carriage princesse au revoir cried he stumbling with his tongue as well as with his feet the princess picking up her dress was taking her seat in the dark carriage her husband was adjusting his saber prince hippolyte under pretense of helping was in everyone s way allow me sir said prince andrew in russian in a cold disagreeable tone to prince hippolyte who was blocking his path i am expecting you pierre said the same voice but gently and affectionately the postilion started the carriage wheels rattled prince hippolyte laughed spasmodically as he stood in the porch waiting for the vicomte whom he had promised to take home well mon cher said the vicomte having seated himself beside hippolyte in the carriage your little princess is very nice very nice indeed quite french and he kissed the tips of his fingers hippolyte burst out laughing do you know you are a terrible chap for all your innocent airs continued the vicomte i pity the poor husband that little officer who gives himself the airs of a monarch hippolyte spluttered again and amid his laughter said and you were saying that the russian ladies are not equal to the french one has to know how to deal with them pierre reaching the house first went into prince andrew s study like one quite at home and from habit immediately lay down on the sofa took from the shelf the first book that came to his hand it was caesar s commentaries and resting on his elbow began reading it in the middle what have you done to mlle scherer she will be quite ill now said prince andrew as he entered the study rubbing his small white hands pierre turned his whole body making the sofa creak he lifte\n",
            "[ 2  7  0 ...  5 19  4]\n",
            "50000\n"
          ]
        }
      ]
    },
    {
      "cell_type": "markdown",
      "source": [
        "#Baum- Welch Algorithm"
      ],
      "metadata": {
        "id": "VeAdSSN-KRoN"
      }
    },
    {
      "cell_type": "code",
      "source": [
        "\n",
        "def baumWelch(A, B, pi, T, M, O, old_log_prob):\n",
        "    N = 2\n",
        "    # alpha-pass\n",
        "    c = np.zeros([T, 1])\n",
        "    alpha = np.zeros([T, N])\n",
        "    c[0][0] = 0\n",
        "\n",
        "    for i in range(N):\n",
        "        alpha[0][i] = pi[0][i]*B[i][O[0]]\n",
        "        c[0][0] = c[0][0] + alpha[0][i]\n",
        "\n",
        "    # scale the alpha[0][i]\n",
        "    c[0][0] = 1/c[0][0]\n",
        "    for i in range(N):\n",
        "        alpha[0][i] = c[0][0]*alpha[0][i]\n",
        "\n",
        "    # compute alpha[t][i]\n",
        "    for t in range(1, T):\n",
        "        c[t][0] = 0\n",
        "        for i in range(N):\n",
        "            alpha[t][i] = 0\n",
        "            for j in range(N):\n",
        "                alpha[t][i] = alpha[t][i] + alpha[t-1][j]*A[j][i]\n",
        "\n",
        "            alpha[t][i] = alpha[t][i]*B[i][O[t]]\n",
        "            c[t][0] = c[t][0] + alpha[t][i]\n",
        "\n",
        "        c[t][0] = 1/c[t][0]\n",
        "        for i in range(N):\n",
        "            alpha[t][i] = c[t][0]*alpha[t][i]\n",
        "\n",
        "\n",
        "    # beta-pass\n",
        "    beta = np.zeros([T, N])\n",
        "\n",
        "    for i in range(N):\n",
        "        beta[T-1][i] = c[T-1][0]\n",
        "\n",
        "    for t in range(T-2, -1, -1):\n",
        "        for i in range(N):\n",
        "            beta[t][i] = 0\n",
        "            for j in range(N):\n",
        "                beta[t][i] = beta[t][i] + A[i][j]*B[j][O[t+1]]*beta[t+1][j]\n",
        "            \n",
        "            # scale the beta[t][i]\n",
        "            beta[t][i] = c[t][0]*beta[t][i]\n",
        "\n",
        "\n",
        "    # compute gamma[t][i][j] and gamma[t][i]\n",
        "    di_gamma = np.zeros([T, N, N])\n",
        "    gamma = np.zeros([T, N])\n",
        "\n",
        "    for t in range(T-1):\n",
        "        for i in range(N):\n",
        "            gamma[t][i] = 0\n",
        "            for j in range(N):\n",
        "                di_gamma[t][i][j] = alpha[t][i]*A[i][j]*B[j][O[t+1]]*beta[t+1][j]\n",
        "                gamma[t][i] = gamma[t][i] + di_gamma[t][i][j]\n",
        "\n",
        "\n",
        "    # handling the case for gamma[T-1][i]\n",
        "    for i in range(N):\n",
        "        gamma[T-1][i] = alpha[T-1][i]\n",
        "\n",
        "\n",
        "    # re-estimate A, B and pi\n",
        "    # re-estimate pi\n",
        "    for i in range(N):\n",
        "        pi[0][i] = gamma[0][i]\n",
        "\n",
        "    # re-estimate A\n",
        "    for i in range(N):\n",
        "        denominator = 0\n",
        "        for t in range(T-1):\n",
        "            denominator = denominator + gamma[t][i]\n",
        "\n",
        "        for j in range(N):\n",
        "            numerator = 0\n",
        "            for t in range(T-1):\n",
        "                numerator = numerator + di_gamma[t][i][j]\n",
        "            A[i][j] = numerator/denominator\n",
        "\n",
        "\n",
        "    # re-estimate B\n",
        "    for i in range(N):\n",
        "        denominator = 0\n",
        "        for t in range(T):\n",
        "            denominator = denominator + gamma[t][i]\n",
        "        \n",
        "        for j in range(M):\n",
        "            numerator = 0\n",
        "            for t in range(T):\n",
        "                if O[t] == j:\n",
        "                    numerator = numerator + gamma[t][i]\n",
        "            \n",
        "            B[i][j] = numerator/denominator\n",
        "\n",
        "\n",
        "    # compute log(P(O/lambda))\n",
        "    log_prob = 0\n",
        "    for i in range(T):\n",
        "        log_prob = log_prob + math.log(c[i][0])\n",
        "\n",
        "    log_prob = -1 * log_prob\n",
        "\n",
        "    if log_prob > old_log_prob:\n",
        "        old_log_prob = log_prob\n",
        "\n",
        "    return A, B, pi, old_log_prob\n",
        "     "
      ],
      "metadata": {
        "id": "FVq_As8uKaXw"
      },
      "execution_count": 6,
      "outputs": []
    },
    {
      "cell_type": "code",
      "source": [
        "a, b, p, log_probability = baumWelch(A, B, pi, T, M, O, old_log_prob)\n",
        "\n",
        "for i in range(100):\n",
        "    sys.stdout.write(\"\\r\")\n",
        "    sys.stdout.write(\"Percentage completed: %d%%\" % (((i+1) * 100)/ max_iters))\n",
        "    sys.stdout.flush()\n",
        "    a, b, p, log_probability = baumWelch(a, b, p, T, M, O, log_probability)\n",
        "\n",
        "print(\"\\n\")\n",
        "print(\"\\nState transition matrix: \\n\", a)\n",
        "print(\"\\n Observation probability matrix: \\n\", b)\n",
        "print(\"\\n Pi: \\n\", p)\n",
        "print(\"\\nLog Probability log(P(O/lambda)): \", log_probability)\n",
        "     "
      ],
      "metadata": {
        "colab": {
          "base_uri": "https://localhost:8080/"
        },
        "id": "RoXvX4ozKhas",
        "outputId": "538033b5-68a2-4531-a131-8dcd482513fb"
      },
      "execution_count": 7,
      "outputs": [
        {
          "output_type": "stream",
          "name": "stdout",
          "text": [
            "Percentage completed: 100%\n",
            "\n",
            "\n",
            "State transition matrix: \n",
            " [[0.28421231 0.71578769]\n",
            " [0.71072112 0.28927888]]\n",
            "\n",
            " Observation probability matrix: \n",
            " [[1.38994659e-01 2.09881065e-15 1.13484046e-04 7.60455293e-10\n",
            "  2.05852734e-01 1.51160699e-18 1.00715886e-03 1.23743118e-04\n",
            "  1.20107545e-01 1.93312710e-24 6.04729808e-07 5.49282431e-03\n",
            "  2.62729730e-18 1.76158719e-06 1.21151256e-01 1.31814074e-03\n",
            "  3.67590784e-19 2.04274598e-11 9.38351765e-08 9.71223151e-05\n",
            "  3.79118779e-02 1.01558265e-21 5.33569824e-22 1.10587405e-08\n",
            "  2.96478079e-05 4.35168232e-33 3.67797335e-01]\n",
            " [2.25210347e-03 2.29184173e-02 4.05027423e-02 7.10670220e-02\n",
            "  3.98424104e-08 2.98138716e-02 3.09263379e-02 9.87252651e-02\n",
            "  2.11361922e-09 1.71389903e-03 1.20764090e-02 6.15874955e-02\n",
            "  3.89812385e-02 1.19373312e-01 5.63168677e-09 3.55599686e-02\n",
            "  1.39503410e-03 9.37064332e-02 1.03312146e-01 1.36656766e-01\n",
            "  4.52696236e-03 2.28785592e-02 3.51150011e-02 2.51105040e-03\n",
            "  3.17773399e-02 1.03631104e-03 1.58626650e-03]]\n",
            "\n",
            " Pi: \n",
            " [[1.95957419e-70 1.00000000e+00]]\n",
            "\n",
            "Log Probability log(P(O/lambda)):  -137351.86506912584\n"
          ]
        }
      ]
    }
  ]
}