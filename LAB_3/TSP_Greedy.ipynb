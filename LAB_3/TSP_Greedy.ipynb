import matplotlib.pyplot as plt
import numpy as np
def tsp_greedy(points):
    # start at a random point
    current = 0
    unvisited = set(range(1, len(points)))
    path = [current]

    while unvisited:
        # find the nearest unvisited point
        nearest = min(unvisited, key=lambda x: distance(points[current], points[x]))
        path.append(nearest)
        unvisited.remove(nearest)
        current = nearest

    return path

def distance(p1, p2):
    # euclidean distance between two points
    return ((p1[0] - p2[0]) ** 2 + (p1[1] - p2[1]) ** 2) ** 0.5

def read_cities_from_file(filename):
    cities = []
    with open(filename, 'r') as file:
        for line in file:
            x, y, z = line.strip().split()
            cities.append((float(y), float(z)))
    return cities
cities=np.asarray(read_cities_from_file('rajloc.txt'))
path = tsp_greedy(cities)
plt.scatter(cities[:, 0], cities[:, 1])
plt.plot(cities[path, 0], cities[path, 1])
plt.show()
