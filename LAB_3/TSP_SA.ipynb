import numpy as np
import matplotlib.pyplot as plt
from matplotlib.animation import FuncAnimation
from scipy.spatial.distance import pdist, squareform
from scipy.optimize import minimize

def read_cities_from_file(filename):
    cities = []
    with open(filename, 'r') as file:
        for line in file:
            x, y, z = line.strip().split()
            cities.append((float(y), float(z)))
    return cities
cities=np.asarray(read_cities_from_file('/coord.txt'))
num_cities = cities.shape[0]
# print(cities)

# Create distance matrix
distance_matrix = squareform(pdist(cities))
# print(distance_matrix)

# Define function to calculate total distance of a given path
def total_distance(path):
    return np.sum([distance_matrix[path[i-1], path[i]] for i in range(1, len(path))])

# Define simulated annealing function
def simulated_annealing(path, T0=1000, alpha=0.9995, T_min=1e-6):
    T = T0
    while T > T_min:
        # Choose random indices to swap
        i, j = np.random.randint(0, num_cities, 2)
        new_path = np.copy(path)
        new_path[i], new_path[j] = new_path[j], new_path[i]
        delta = total_distance(new_path) - total_distance(path)
        if delta < 0:
            path = new_path
        elif np.random.rand() < np.exp(-delta/T):
            path = new_path
        T *= alpha
    return path

# Initialize path with random order of cities
path = np.random.permutation(num_cities)

# Optimize path using simulated annealing
path = simulated_annealing(path)

# Plot the final optimized path
plt.scatter(cities[:, 0], cities[:, 1])
plt.plot(cities[path, 0], cities[path, 1])
plt.show()
